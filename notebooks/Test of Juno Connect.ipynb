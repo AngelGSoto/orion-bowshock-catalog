{
 "cells": [
  {
   "cell_type": "markdown",
   "metadata": {},
   "source": [
    "This is to try out Juno connect from my iPad, and try and work out why it is making double output."
   ]
  },
  {
   "cell_type": "code",
   "execution_count": 1,
   "metadata": {},
   "outputs": [
    {
     "name": "stdout",
     "output_type": "stream",
     "text": [
      "Hello\n"
     ]
    }
   ],
   "source": [
    "print(\"Hello\")"
   ]
  },
  {
   "cell_type": "code",
   "execution_count": 2,
   "metadata": {},
   "outputs": [
    {
     "name": "stdout",
     "output_type": "stream",
     "text": [
      "Hello from Juno Connect\n"
     ]
    }
   ],
   "source": [
    "print(\"Hello from Juno Connect\")"
   ]
  },
  {
   "cell_type": "code",
   "execution_count": 3,
   "metadata": {},
   "outputs": [
    {
     "data": {
      "text/plain": [
       "'Returned value from Juno Connect'"
      ]
     },
     "execution_count": 3,
     "metadata": {},
     "output_type": "execute_result"
    }
   ],
   "source": [
    "\"Returned value from Juno Connect\""
   ]
  },
  {
   "cell_type": "code",
   "execution_count": 1,
   "metadata": {},
   "outputs": [
    {
     "data": {
      "text/plain": [
       "'Returned value from Mac'"
      ]
     },
     "execution_count": 1,
     "metadata": {},
     "output_type": "execute_result"
    }
   ],
   "source": [
    "\"Returned value from Mac\""
   ]
  },
  {
   "cell_type": "markdown",
   "metadata": {},
   "source": [
    "Add something on Mac Mini to test out jupytext. The plan is that this should save a plain python file as well as the `.ipynb` file."
   ]
  },
  {
   "cell_type": "markdown",
   "metadata": {},
   "source": [
    "Now, add something with Jono Connect to see if this triggers the saving of the pure python file."
   ]
  },
  {
   "cell_type": "markdown",
   "metadata": {},
   "source": [
    "**And this is from Safari on iPad**"
   ]
  },
  {
   "cell_type": "markdown",
   "metadata": {},
   "source": [
    "By the way, the double output problem disappeared in the end.  Not sure what was causing it.  So, this works fine in Safari, which makes me wonder what the point of the Juno Connect app is.  I suppose that it gives us a dark mode.  Not sure what other advantage it has though, since the keybindings are mainly identical to in the web browser."
   ]
  },
  {
   "cell_type": "markdown",
   "metadata": {},
   "source": [
    "**Back on Juno Connect**  I guess it does look a bit nicer than the web browser.  We don't get the file menu, which allows us to fiddle with the jupytext settings.  But apart from that the functionality is identical, and it is certainly easier on the eyes."
   ]
  },
  {
   "cell_type": "markdown",
   "metadata": {},
   "source": [
    "Syncing changes between the two does seem to require \"Close and halt\" though. At least, it does on the Safari side.  On the Juno Connect side, going back to the folder view and re-opening does the trick (assuming that we have done \"Save\" on the Safari side)."
   ]
  },
  {
   "cell_type": "code",
   "execution_count": null,
   "metadata": {},
   "outputs": [],
   "source": []
  }
 ],
 "metadata": {
  "jupytext": {
   "formats": "ipynb,py:light"
  },
  "kernelspec": {
   "display_name": "Python 3",
   "language": "python",
   "name": "python3"
  },
  "language_info": {
   "codemirror_mode": {
    "name": "ipython",
    "version": 3
   },
   "file_extension": ".py",
   "mimetype": "text/x-python",
   "name": "python",
   "nbconvert_exporter": "python",
   "pygments_lexer": "ipython3",
   "version": "3.7.3"
  }
 },
 "nbformat": 4,
 "nbformat_minor": 4
}
