{
 "cells": [
  {
   "cell_type": "code",
   "execution_count": 1,
   "metadata": {},
   "outputs": [],
   "source": [
    "from pathlib import Path\n",
    "from astropy.table import Table\n",
    "import numpy as np"
   ]
  },
  {
   "cell_type": "code",
   "execution_count": 2,
   "metadata": {},
   "outputs": [],
   "source": [
    "datadir = Path(\"../luis-programas\")"
   ]
  },
  {
   "cell_type": "code",
   "execution_count": 4,
   "metadata": {},
   "outputs": [],
   "source": [
    "tab = Table.read(datadir / \"arcs-summary-merge.ecsv\")"
   ]
  },
  {
   "cell_type": "code",
   "execution_count": 5,
   "metadata": {},
   "outputs": [
    {
     "data": {
      "text/html": [
       "<i>Table length=85</i>\n",
       "<table id=\"table140192369057040-474672\" class=\"table-striped table-bordered table-condensed\">\n",
       "<thead><tr><th>idx</th><th>Object</th><th>h_old</th><th>Value_Bally</th><th>Value_bg_Bally</th><th>Delta</th><th>Dif_Bally</th><th>Value_Robberto</th><th>Value_bg_Robberto_f656</th><th>Dif_Robberto_f656</th><th>RA</th><th>Dec</th><th>D</th><th>PA_star</th><th>h</th><th>PA_out</th><th>PA_in</th><th>R_out</th><th>R_in</th><th>Rc_out</th><th>Rc_in</th></tr></thead>\n",
       "<tr><td>0</td><td>022-635</td><td>0.354</td><td>2.80442</td><td>2.71902</td><td>0.04816</td><td>0.0854</td><td>0.03372</td><td>0.03274</td><td>0.00098</td><td>5:35:02.200</td><td>-5:26:35.33</td><td>286.472</td><td>47.7</td><td>0.341</td><td>83.2</td><td>77.5</td><td>1.104</td><td>0.75</td><td>4.456</td><td>2.29</td></tr>\n",
       "<tr><td>1</td><td>041-637</td><td>0.749</td><td>2.96955</td><td>2.92683</td><td>0.10903</td><td>0.04272</td><td>--</td><td>--</td><td>--</td><td>5:35:04.060</td><td>-5:26:37.06</td><td>267.84</td><td>43.4</td><td>0.766</td><td>4.2</td><td>15.5</td><td>1.937</td><td>1.189</td><td>4.395</td><td>3.232</td></tr>\n",
       "<tr><td>2</td><td>042-628</td><td>1.309</td><td>3.22114</td><td>3.0331</td><td>0.08318</td><td>0.18804</td><td>--</td><td>--</td><td>--</td><td>5:35:04.19875</td><td>-5:26:27.59750</td><td>259.592</td><td>44.5</td><td>1.339</td><td>61.6</td><td>56.1</td><td>3.069</td><td>1.76</td><td>6.901</td><td>3.606</td></tr>\n",
       "<tr><td>3</td><td>049-143</td><td>0.549</td><td>7.95741</td><td>7.8166</td><td>0.21904</td><td>0.14081</td><td>--</td><td>--</td><td>--</td><td>5:35:04.945</td><td>-5:21:42.92</td><td>197.821</td><td>120.2</td><td>0.56</td><td>103.1</td><td>139.0</td><td>1.173</td><td>0.625</td><td>4.178</td><td>0.662</td></tr>\n",
       "<tr><td>4</td><td>051-024</td><td>0.292</td><td>6.38142</td><td>6.3423</td><td>0.15466</td><td>0.03913</td><td>--</td><td>--</td><td>--</td><td>5:35:05.131</td><td>-5:20:24.32</td><td>245.01</td><td>136.7</td><td>0.269</td><td>136.5</td><td>123.6</td><td>1.186</td><td>0.895</td><td>2.287</td><td>1.663</td></tr>\n",
       "<tr><td>5</td><td>065-502</td><td>0.93</td><td>9.60864</td><td>9.2402</td><td>0.692</td><td>0.36845</td><td>0.12369</td><td>0.11919</td><td>0.0045</td><td>5:35:06.53975</td><td>-5:25:01.50750</td><td>177.288</td><td>56.1</td><td>1.214</td><td>90.5</td><td>104.7</td><td>1.422</td><td>0.491</td><td>7.737</td><td>2.31</td></tr>\n",
       "<tr><td>6</td><td>066-3251</td><td>0.0</td><td>0.9432</td><td>0.91176</td><td>0.03996</td><td>0.03144</td><td>--</td><td>--</td><td>--</td><td>5:35:06.56919</td><td>-5:32:51.43000</td><td>587.491</td><td>14.5</td><td>0.0</td><td>300.1</td><td>--</td><td>1.068</td><td>--</td><td>1.588</td><td>--</td></tr>\n",
       "<tr><td>7</td><td>066-652</td><td>--</td><td>--</td><td>--</td><td>--</td><td>--</td><td>--</td><td>--</td><td>--</td><td>5:35:06.588</td><td>-5:26:52.38</td><td>255.852</td><td>34.9</td><td>0.102</td><td>316.8</td><td>341.9</td><td>0.028</td><td>-0.075</td><td>0.575</td><td>0.6</td></tr>\n",
       "<tr><td>8</td><td>072-134</td><td>2.429</td><td>12.93193</td><td>12.63087</td><td>0.31066</td><td>0.30106</td><td>--</td><td>--</td><td>--</td><td>5:35:07.20375</td><td>-5:21:34.29500</td><td>174.737</td><td>128.3</td><td>2.419</td><td>89.7</td><td>94.5</td><td>4.69</td><td>2.261</td><td>17.626</td><td>7.286</td></tr>\n",
       "<tr><td>9</td><td>074-229</td><td>0.566</td><td>12.1149</td><td>11.54646</td><td>0.3202</td><td>0.56844</td><td>--</td><td>--</td><td>--</td><td>5:35:07.384</td><td>-5:22:28.92</td><td>144.777</td><td>111.7</td><td>0.596</td><td>120.3</td><td>185.7</td><td>1.357</td><td>0.79</td><td>1.601</td><td>0.748</td></tr>\n",
       "<tr><td>10</td><td>083-435</td><td>0.703</td><td>12.40549</td><td>12.32781</td><td>0.17918</td><td>0.07768</td><td>0.17284</td><td>0.17164</td><td>0.00121</td><td>5:35:08.29275</td><td>-5:24:34.85750</td><td>140.892</td><td>59.1</td><td>0.579</td><td>84.0</td><td>40.5</td><td>1.247</td><td>0.544</td><td>2.005</td><td>0.664</td></tr>\n",
       "<tr><td>11</td><td>101-233</td><td>0.346</td><td>28.11431</td><td>28.40083</td><td>2.8809</td><td>-0.28652</td><td>0.33987</td><td>0.33494</td><td>0.00493</td><td>5:35:10.133</td><td>-5:22:32.60</td><td>105.936</td><td>118.1</td><td>0.419</td><td>131.4</td><td>136.6</td><td>2.458</td><td>2.111</td><td>4.356</td><td>4.206</td></tr>\n",
       "<tr><td>12</td><td>102-157</td><td>0.394</td><td>17.19631</td><td>16.79779</td><td>0.57697</td><td>0.39851</td><td>0.21035</td><td>0.20436</td><td>0.006</td><td>5:35:10.25075</td><td>-5:21:57.11750</td><td>125.297</td><td>133.0</td><td>0.45</td><td>118.5</td><td>116.6</td><td>0.796</td><td>0.402</td><td>5.03</td><td>3.542</td></tr>\n",
       "<tr><td>13</td><td>106-245</td><td>0.4</td><td>34.09301</td><td>31.70072</td><td>0.40087</td><td>2.39229</td><td>0.42202</td><td>0.40328</td><td>0.01874</td><td>5:35:10.576</td><td>-5:22:44.69</td><td>94.703</td><td>113.5</td><td>0.38</td><td>122.7</td><td>99.0</td><td>0.627</td><td>0.228</td><td>2.476</td><td>1.121</td></tr>\n",
       "<tr><td>14</td><td>109-246</td><td>0.626</td><td>39.05883</td><td>35.3827</td><td>1.62604</td><td>3.67613</td><td>0.49852</td><td>0.45784</td><td>0.04068</td><td>5:35:10.89575</td><td>-5:22:46.31750</td><td>89.677</td><td>113.8</td><td>0.704</td><td>112.9</td><td>119.5</td><td>1.948</td><td>1.322</td><td>10.638</td><td>7.325</td></tr>\n",
       "<tr><td>15</td><td>116-3101</td><td>0.449</td><td>0.86913</td><td>0.83316</td><td>0.0204</td><td>0.03597</td><td>--</td><td>--</td><td>--</td><td>5:35:11.65419</td><td>-5:31:01.03000</td><td>463.921</td><td>8.8</td><td>0.44</td><td>24.0</td><td>7.9</td><td>1.452</td><td>1.004</td><td>2.695</td><td>1.574</td></tr>\n",
       "<tr><td>16</td><td>117-421</td><td>1.292</td><td>--</td><td>--</td><td>--</td><td>--</td><td>--</td><td>--</td><td>--</td><td>5:35:11.650</td><td>-5:24:21.41</td><td>92.067</td><td>50.2</td><td>1.374</td><td>99.1</td><td>96.7</td><td>2.001</td><td>0.71</td><td>6.946</td><td>2.774</td></tr>\n",
       "<tr><td>17</td><td>119-3155</td><td>1.065</td><td>0.79579</td><td>0.77475</td><td>0.0197</td><td>0.02103</td><td>0.00906</td><td>0.00877</td><td>0.00029</td><td>5:35:11.926</td><td>-5:31:53.30</td><td>515.101</td><td>7.4</td><td>1.002</td><td>33.3</td><td>35.3</td><td>3.015</td><td>1.951</td><td>6.727</td><td>5.11</td></tr>\n",
       "<tr><td>18</td><td>121-434</td><td>0.412</td><td>19.46307</td><td>18.82996</td><td>0.6803</td><td>0.6331</td><td>0.0</td><td>0.0</td><td>0.0</td><td>5:35:12.12175</td><td>-5:24:33.75750</td><td>95.578</td><td>41.8</td><td>0.39</td><td>65.4</td><td>66.2</td><td>0.757</td><td>0.344</td><td>1.413</td><td>0.688</td></tr>\n",
       "<tr><td>19</td><td>124-131</td><td>--</td><td>--</td><td>--</td><td>--</td><td>--</td><td>--</td><td>--</td><td>--</td><td>5:35:12.383</td><td>-5:21:31.41</td><td>126.201</td><td>151.7</td><td>1.733</td><td>134.9</td><td>156.0</td><td>4.477</td><td>2.744</td><td>5.95</td><td>10.415</td></tr>\n",
       "<tr><td>20</td><td>131-046</td><td>2.548</td><td>15.00281</td><td>15.3283</td><td>2.92449</td><td>-0.32549</td><td>--</td><td>--</td><td>--</td><td>5:35:13.05537</td><td>-5:20:45.78625</td><td>164.46</td><td>162.4</td><td>2.168</td><td>140.3</td><td>144.2</td><td>3.546</td><td>0.999</td><td>7.325</td><td>5.645</td></tr>\n",
       "<tr><td>21</td><td>132-053</td><td>0.401</td><td>18.36519</td><td>18.21818</td><td>0.3856</td><td>0.14701</td><td>0.22867</td><td>0.2285</td><td>0.00017</td><td>5:35:13.202</td><td>-5:20:52.59</td><td>157.312</td><td>162.4</td><td>0.392</td><td>153.9</td><td>167.0</td><td>0.718</td><td>0.317</td><td>1.803</td><td>0.676</td></tr>\n",
       "<tr><td>22</td><td>136-3057</td><td>5.226</td><td>0.855</td><td>0.81089</td><td>0.03269</td><td>0.04411</td><td>--</td><td>--</td><td>--</td><td>5:35:13.60719</td><td>-5:30:57.56000</td><td>456.925</td><td>5.2</td><td>4.51</td><td>10.9</td><td>4.4</td><td>10.133</td><td>4.907</td><td>18.706</td><td>10.203</td></tr>\n",
       "<tr><td>23</td><td>138-3024</td><td>1.148</td><td>0.88077</td><td>0.86639</td><td>0.0302</td><td>0.01438</td><td>0.00656</td><td>0.00646</td><td>0.0001</td><td>5:35:13.79919</td><td>-5:30:24.40000</td><td>423.642</td><td>5.2</td><td>1.107</td><td>22.2</td><td>17.4</td><td>3.893</td><td>2.744</td><td>8.539</td><td>4.787</td></tr>\n",
       "<tr><td>24</td><td>142-301</td><td>0.6</td><td>73.17567</td><td>64.88542</td><td>3.75324</td><td>8.29025</td><td>0.93401</td><td>0.84074</td><td>0.09327</td><td>5:35:14.158</td><td>-5:23:01.00</td><td>39.672</td><td>122.9</td><td>0.6</td><td>91.5</td><td>98.6</td><td>2.422</td><td>1.822</td><td>6.062</td><td>4.547</td></tr>\n",
       "<tr><td>25</td><td>154-225</td><td>0.651</td><td>43.59189</td><td>40.77802</td><td>3.25019</td><td>2.81387</td><td>0.52037</td><td>0.48765</td><td>0.03272</td><td>5:35:15.367</td><td>-5:22:25.31</td><td>59.219</td><td>165.1</td><td>0.584</td><td>158.0</td><td>193.1</td><td>1.287</td><td>0.636</td><td>3.421</td><td>1.051</td></tr>\n",
       "<tr><td>26</td><td>154-240</td><td>0.0</td><td>54.42364</td><td>54.05792</td><td>12.38136</td><td>0.36571</td><td>0.67024</td><td>0.68345</td><td>-0.01321</td><td>5:35:15.383</td><td>-5:22:39.79</td><td>45.303</td><td>160.6</td><td>0.0</td><td>--</td><td>202.3</td><td>--</td><td>1.72</td><td>--</td><td>2.3</td></tr>\n",
       "<tr><td>27</td><td>158-323</td><td>0.435</td><td>72.05925</td><td>66.38213</td><td>7.76588</td><td>5.67712</td><td>0.88137</td><td>0.81426</td><td>0.06711</td><td>5:35:15.831</td><td>-5:23:22.51</td><td>8.338</td><td>90.1</td><td>0.206</td><td>114.8</td><td>120.0</td><td>1.849</td><td>1.643</td><td>2.92</td><td>2.354</td></tr>\n",
       "<tr><td>28</td><td>159-221</td><td>0.0</td><td>44.96685</td><td>45.29734</td><td>2.64143</td><td>-0.33049</td><td>0.49168</td><td>0.49655</td><td>-0.00488</td><td>5:35:15.934</td><td>-5:22:21.04</td><td>61.862</td><td>173.7</td><td>0.0</td><td>--</td><td>215.4</td><td>--</td><td>0.834</td><td>--</td><td>1.582</td></tr>\n",
       "<tr><td>29</td><td>160-350</td><td>--</td><td>--</td><td>--</td><td>--</td><td>--</td><td>--</td><td>--</td><td>--</td><td>5:35:15.958</td><td>-5:23:49.68</td><td>27.906</td><td>13.3</td><td>0.067</td><td>226.2</td><td>224.3</td><td>0.109</td><td>0.042</td><td>0.598</td><td>0.294</td></tr>\n",
       "<tr><td>30</td><td>161-324</td><td>0.36</td><td>63.38539</td><td>60.03492</td><td>2.05702</td><td>3.35047</td><td>0.76946</td><td>0.72718</td><td>0.04228</td><td>5:35:16.056</td><td>-5:23:24.33</td><td>5.295</td><td>70.1</td><td>0.255</td><td>70.7</td><td>76.6</td><td>1.159</td><td>0.904</td><td>3.013</td><td>2.027</td></tr>\n",
       "<tr><td>31</td><td>162-456</td><td>--</td><td>--</td><td>--</td><td>--</td><td>--</td><td>--</td><td>--</td><td>--</td><td>5:35:16.182</td><td>-5:24:56.39</td><td>93.914</td><td>1.9</td><td>0.086</td><td>28.8</td><td>49.2</td><td>0.294</td><td>0.208</td><td>0.853</td><td>0.785</td></tr>\n",
       "<tr><td>32</td><td>163-222</td><td>0.43</td><td>44.14778</td><td>46.0239</td><td>1.41854</td><td>-1.87612</td><td>0.49505</td><td>0.5153</td><td>-0.02025</td><td>5:35:16.303</td><td>-5:22:21.47</td><td>61.071</td><td>178.8</td><td>0.356</td><td>198.9</td><td>180.1</td><td>1.538</td><td>1.108</td><td>1.805</td><td>1.549</td></tr>\n",
       "<tr><td>33</td><td>163-317</td><td>0.277</td><td>69.13676</td><td>68.48918</td><td>4.21819</td><td>0.64758</td><td>0.89688</td><td>0.89082</td><td>0.00605</td><td>5:35:16.282</td><td>-5:23:16.63</td><td>6.111</td><td>164.8</td><td>0.395</td><td>148.6</td><td>145.5</td><td>2.323</td><td>1.928</td><td>4.904</td><td>4.437</td></tr>\n",
       "<tr><td>34</td><td>165-235</td><td>0.551</td><td>53.12876</td><td>50.26978</td><td>4.69804</td><td>2.85897</td><td>0.64141</td><td>0.631</td><td>0.01041</td><td>5:35:16.475</td><td>-5:22:35.22</td><td>47.325</td><td>181.5</td><td>0.472</td><td>197.5</td><td>193.2</td><td>1.776</td><td>1.225</td><td>3.842</td><td>3.437</td></tr>\n",
       "<tr><td>35</td><td>166-316</td><td>0.203</td><td>72.15591</td><td>71.47672</td><td>3.25257</td><td>0.67918</td><td>0.92942</td><td>0.93347</td><td>-0.00405</td><td>5:35:16.607</td><td>-5:23:16.16</td><td>7.149</td><td>207.0</td><td>0.279</td><td>181.4</td><td>160.5</td><td>0.694</td><td>0.415</td><td>1.191</td><td>0.851</td></tr>\n",
       "<tr><td>36</td><td>167-317</td><td>0.514</td><td>167.94201</td><td>66.33839</td><td>19.07337</td><td>101.60362</td><td>0.87149</td><td>0.86437</td><td>0.00711</td><td>5:35:16.739</td><td>-5:23:16.50</td><td>7.974</td><td>220.9</td><td>0.706</td><td>178.1</td><td>165.4</td><td>1.96</td><td>1.254</td><td>3.286</td><td>2.052</td></tr>\n",
       "<tr><td>37</td><td>168-326</td><td>0.21</td><td>72.67345</td><td>64.17395</td><td>3.0276</td><td>8.4995</td><td>0.95333</td><td>0.84818</td><td>0.10514</td><td>5:35:16.839</td><td>-5:23:26.32</td><td>7.712</td><td>299.5</td><td>0.196</td><td>314.5</td><td>328.1</td><td>0.947</td><td>0.737</td><td>3.044</td><td>3.011</td></tr>\n",
       "<tr><td>38</td><td>168-326N</td><td>0.119</td><td>187.52268</td><td>186.47194</td><td>3.57901</td><td>1.05074</td><td>1.96906</td><td>1.83933</td><td>0.12973</td><td>5:35:16.835</td><td>-5:23:25.97</td><td>7.493</td><td>297.4</td><td>0.111</td><td>137.0</td><td>142.2</td><td>0.229</td><td>0.118</td><td>1.044</td><td>0.79</td></tr>\n",
       "<tr><td>39</td><td>168-328</td><td>0.235</td><td>53.39705</td><td>50.46761</td><td>3.71374</td><td>2.92944</td><td>1.02871</td><td>0.87565</td><td>0.15306</td><td>5:35:16.757</td><td>-5:23:28.05</td><td>7.787</td><td>315.2</td><td>0.272</td><td>345.3</td><td>353.0</td><td>1.062</td><td>0.789</td><td>1.315</td><td>0.799</td></tr>\n",
       "<tr><td>40</td><td>169-338</td><td>0.51</td><td>45.98507</td><td>45.6046</td><td>1.26636</td><td>0.38047</td><td>0.59301</td><td>0.59464</td><td>-0.00164</td><td>5:35:16.880</td><td>-5:23:38.02</td><td>17.138</td><td>334.7</td><td>0.351</td><td>345.9</td><td>6.4</td><td>1.031</td><td>0.68</td><td>2.037</td><td>0.719</td></tr>\n",
       "<tr><td>41</td><td>170-249</td><td>0.84</td><td>52.84594</td><td>50.16077</td><td>8.01456</td><td>2.68518</td><td>0.70104</td><td>0.66688</td><td>0.03415</td><td>5:35:16.967</td><td>-5:22:48.44</td><td>35.162</td><td>194.2</td><td>0.777</td><td>173.4</td><td>193.3</td><td>3.225</td><td>2.448</td><td>6.92</td><td>4.755</td></tr>\n",
       "<tr><td>42</td><td>173-236</td><td>0.579</td><td>71.0402</td><td>58.41909</td><td>33.9966</td><td>12.62112</td><td>0.46573</td><td>0.46083</td><td>0.0049</td><td>5:35:17.352</td><td>-5:22:35.73</td><td>48.956</td><td>197.1</td><td>0.753</td><td>255.3</td><td>275.5</td><td>2.28</td><td>1.527</td><td>1.364</td><td>1.935</td></tr>\n",
       "<tr><td>43</td><td>173-342</td><td>0.336</td><td>38.96898</td><td>35.82955</td><td>1.73145</td><td>3.13943</td><td>0.52909</td><td>0.48668</td><td>0.04241</td><td>5:35:17.324</td><td>-5:23:41.39</td><td>23.465</td><td>323.5</td><td>0.462</td><td>82.2</td><td>76.1</td><td>1.29</td><td>0.828</td><td>3.312</td><td>1.719</td></tr>\n",
       "<tr><td>44</td><td>175-321</td><td>0.647</td><td>64.97197</td><td>61.57776</td><td>6.88164</td><td>3.39421</td><td>0.90874</td><td>0.84792</td><td>0.06081</td><td>5:35:17.458</td><td>-5:23:21.06</td><td>16.026</td><td>264.7</td><td>0.598</td><td>298.7</td><td>324.5</td><td>2.031</td><td>1.384</td><td>2.478</td><td>2.626</td></tr>\n",
       "<tr><td>45</td><td>177-341</td><td>0.484</td><td>34.57974</td><td>32.28169</td><td>3.52831</td><td>2.29805</td><td>0.46255</td><td>0.43383</td><td>0.02873</td><td>5:35:17.667</td><td>-5:23:40.98</td><td>26.543</td><td>314.0</td><td>0.749</td><td>317.0</td><td>293.7</td><td>3.813</td><td>3.064</td><td>4.247</td><td>3.867</td></tr>\n",
       "<tr><td>46</td><td>178-258</td><td>0.556</td><td>47.28008</td><td>45.6936</td><td>3.97348</td><td>1.58649</td><td>0.62452</td><td>0.61229</td><td>0.01222</td><td>5:35:17.819</td><td>-5:22:58.06</td><td>32.473</td><td>221.1</td><td>0.524</td><td>218.7</td><td>210.3</td><td>1.479</td><td>0.923</td><td>3.944</td><td>3.43</td></tr>\n",
       "<tr><td>47</td><td>180-331</td><td>0.348</td><td>33.66978</td><td>29.37365</td><td>0.98675</td><td>4.29613</td><td>0.45206</td><td>0.39826</td><td>0.0538</td><td>5:35:18.033</td><td>-5:23:30.82</td><td>25.909</td><td>288.7</td><td>0.326</td><td>280.8</td><td>282.0</td><td>1.44</td><td>1.114</td><td>2.361</td><td>1.772</td></tr>\n",
       "<tr><td>48</td><td>189-329</td><td>0.859</td><td>47.19997</td><td>38.35084</td><td>2.75772</td><td>8.84913</td><td>0.63799</td><td>0.52809</td><td>0.1099</td><td>5:35:18.868</td><td>-5:23:28.88</td><td>37.556</td><td>279.7</td><td>0.856</td><td>296.4</td><td>264.0</td><td>1.397</td><td>0.538</td><td>6.318</td><td>0.833</td></tr>\n",
       "<tr><td>49</td><td>203-3039</td><td>3.623</td><td>1.00679</td><td>0.97275</td><td>0.03439</td><td>0.03404</td><td>--</td><td>--</td><td>--</td><td>5:35:20.289</td><td>-5:30:39.38</td><td>440.716</td><td>352.4</td><td>3.06</td><td>359.4</td><td>8.2</td><td>5.384</td><td>1.761</td><td>17.897</td><td>14.501</td></tr>\n",
       "<tr><td>50</td><td>204-330</td><td>0.193</td><td>25.40776</td><td>23.73507</td><td>7.9371</td><td>1.67269</td><td>0.32456</td><td>0.31862</td><td>0.00594</td><td>5:35:20.402</td><td>-5:23:30.01</td><td>60.389</td><td>277.1</td><td>0.221</td><td>112.4</td><td>119.0</td><td>0.333</td><td>0.112</td><td>1.336</td><td>1.281</td></tr>\n",
       "<tr><td>51</td><td>206-043</td><td>0.492</td><td>6.98491</td><td>6.86317</td><td>0.21298</td><td>0.12174</td><td>0.07606</td><td>0.07532</td><td>0.00074</td><td>5:35:20.561</td><td>-5:20:43.11</td><td>171.159</td><td>201.3</td><td>0.443</td><td>176.1</td><td>182.7</td><td>1.609</td><td>1.117</td><td>2.186</td><td>2.077</td></tr>\n",
       "<tr><td>52</td><td>212-400</td><td>0.231</td><td>23.35838</td><td>23.35675</td><td>0.90075</td><td>0.00163</td><td>0.33293</td><td>0.33175</td><td>0.00117</td><td>5:35:21.181</td><td>-5:24:00.46</td><td>80.988</td><td>297.9</td><td>0.213</td><td>331.2</td><td>335.5</td><td>1.075</td><td>0.844</td><td>0.831</td><td>0.518</td></tr>\n",
       "<tr><td>53</td><td>261-3018</td><td>2.472</td><td>1.2977</td><td>1.23048</td><td>0.04793</td><td>0.06722</td><td>--</td><td>--</td><td>--</td><td>5:35:26.16875</td><td>-5:30:18.01750</td><td>440.4</td><td>340.6</td><td>2.591</td><td>1.7</td><td>357.1</td><td>4.986</td><td>2.514</td><td>33.288</td><td>3.586</td></tr>\n",
       "<tr><td>54</td><td>305-811</td><td>0.83</td><td>3.87871</td><td>3.82292</td><td>0.07767</td><td>0.05579</td><td>0.04166</td><td>0.0413</td><td>0.00036</td><td>5:35:30.43675</td><td>-5:28:11.23750</td><td>356.86</td><td>324.0</td><td>0.8</td><td>358.6</td><td>349.7</td><td>1.721</td><td>0.891</td><td>4.924</td><td>3.993</td></tr>\n",
       "<tr><td>55</td><td>308-3036</td><td>1.118</td><td>1.26723</td><td>1.23217</td><td>0.03</td><td>0.03507</td><td>--</td><td>--</td><td>--</td><td>5:35:30.79475</td><td>-5:30:36.25250</td><td>484.126</td><td>333.6</td><td>1.125</td><td>359.9</td><td>329.8</td><td>2.557</td><td>1.438</td><td>4.497</td><td>1.782</td></tr>\n",
       "<tr><td>56</td><td>344-3020</td><td>0.986</td><td>1.49703</td><td>1.46875</td><td>0.0295</td><td>0.02828</td><td>--</td><td>--</td><td>--</td><td>5:35:34.36275</td><td>-5:30:20.56250</td><td>496.758</td><td>327.3</td><td>0.947</td><td>334.9</td><td>325.5</td><td>1.659</td><td>0.673</td><td>3.155</td><td>4.423</td></tr>\n",
       "<tr><td>57</td><td>362-3137</td><td>1.549</td><td>0.85401</td><td>0.81872</td><td>0.02242</td><td>0.0353</td><td>0.0086</td><td>0.0082</td><td>0.0004</td><td>5:35:36.34775</td><td>-5:31:37.75250</td><td>577.964</td><td>329.0</td><td>1.465</td><td>6.4</td><td>267.8</td><td>3.121</td><td>1.572</td><td>4.245</td><td>2.222</td></tr>\n",
       "<tr><td>58</td><td>4285-458</td><td>--</td><td>--</td><td>--</td><td>--</td><td>--</td><td>--</td><td>--</td><td>--</td><td>5:34:28.520</td><td>-5:24:57.88</td><td>721.182</td><td>82.4</td><td>0.0</td><td>87.0</td><td>--</td><td>1.913</td><td>--</td><td>4.344</td><td>--</td></tr>\n",
       "<tr><td>59</td><td>4417-653</td><td>0.471</td><td>--</td><td>--</td><td>--</td><td>--</td><td>--</td><td>--</td><td>--</td><td>5:34:41.699</td><td>-5:26:52.92</td><td>559.124</td><td>67.9</td><td>0.452</td><td>57.3</td><td>49.8</td><td>1.194</td><td>0.723</td><td>2.897</td><td>1.673</td></tr>\n",
       "<tr><td>60</td><td>4468-605</td><td>1.138</td><td>1.46605</td><td>1.44362</td><td>0.02834</td><td>0.02244</td><td>0.01577</td><td>0.01566</td><td>0.00011</td><td>5:34:46.75775</td><td>-5:26:04.81750</td><td>471.3</td><td>69.9</td><td>1.199</td><td>54.2</td><td>59.6</td><td>2.469</td><td>1.331</td><td>7.109</td><td>2.223</td></tr>\n",
       "<tr><td>61</td><td>4491-627</td><td>0.827</td><td>--</td><td>--</td><td>--</td><td>--</td><td>--</td><td>--</td><td>--</td><td>5:34:49.066</td><td>-5:26:26.51</td><td>447.584</td><td>65.7</td><td>0.79</td><td>72.3</td><td>76.4</td><td>2.017</td><td>1.189</td><td>4.17</td><td>2.446</td></tr>\n",
       "<tr><td>62</td><td>4505-336</td><td>0.689</td><td>--</td><td>--</td><td>--</td><td>--</td><td>--</td><td>--</td><td>--</td><td>5:34:50.492</td><td>-5:23:35.28</td><td>386.952</td><td>88.1</td><td>0.661</td><td>99.8</td><td>99.5</td><td>1.622</td><td>0.932</td><td>3.493</td><td>1.975</td></tr>\n",
       "<tr><td>63</td><td>4520-419</td><td>0.313</td><td>--</td><td>--</td><td>--</td><td>--</td><td>--</td><td>--</td><td>--</td><td>5:34:52.008</td><td>-5:24:18.73</td><td>368.411</td><td>81.2</td><td>0.32</td><td>84.3</td><td>85.2</td><td>1.387</td><td>1.074</td><td>2.921</td><td>2.296</td></tr>\n",
       "<tr><td>64</td><td>4531-628</td><td>0.327</td><td>--</td><td>--</td><td>--</td><td>--</td><td>--</td><td>--</td><td>--</td><td>5:34:53.072</td><td>-5:26:27.56</td><td>394.309</td><td>62.0</td><td>0.325</td><td>104.0</td><td>89.0</td><td>0.792</td><td>0.464</td><td>1.524</td><td>0.93</td></tr>\n",
       "<tr><td>65</td><td>4550-659</td><td>0.732</td><td>--</td><td>--</td><td>--</td><td>--</td><td>--</td><td>--</td><td>--</td><td>5:34:55.013</td><td>-5:26:58.79</td><td>385.572</td><td>55.9</td><td>0.448</td><td>68.1</td><td>71.8</td><td>1.608</td><td>0.876</td><td>3.817</td><td>2.231</td></tr>\n",
       "<tr><td>66</td><td>4578-251</td><td>0.659</td><td>3.00165</td><td>2.93275</td><td>0.06126</td><td>0.06891</td><td>0.03702</td><td>0.03619</td><td>0.00082</td><td>5:34:57.79275</td><td>-5:22:51.09500</td><td>279.493</td><td>96.5</td><td>0.533</td><td>81.2</td><td>125.0</td><td>1.846</td><td>1.188</td><td>3.52</td><td>2.074</td></tr>\n",
       "<tr><td>67</td><td>4582-635</td><td>0.424</td><td>2.68983</td><td>2.6366</td><td>0.12135</td><td>0.05323</td><td>--</td><td>--</td><td>--</td><td>5:34:58.16675</td><td>-5:26:35.12750</td><td>333.372</td><td>54.7</td><td>0.455</td><td>65.7</td><td>50.5</td><td>1.106</td><td>0.682</td><td>2.931</td><td>2.056</td></tr>\n",
       "<tr><td>68</td><td>LL1</td><td>1.153</td><td>10.82417</td><td>7.83614</td><td>0.63168</td><td>2.98803</td><td>0.13365</td><td>0.10267</td><td>0.03098</td><td>5:35:05.63675</td><td>-5:25:19.44750</td><td>198.626</td><td>53.9</td><td>1.128</td><td>84.4</td><td>78.1</td><td>3.057</td><td>1.904</td><td>8.721</td><td>7.132</td></tr>\n",
       "<tr><td>69</td><td>LL2</td><td>1.961</td><td>1.98162</td><td>1.64726</td><td>0.06471</td><td>0.33436</td><td>--</td><td>--</td><td>--</td><td>5:34:40.860</td><td>-5:22:42.20</td><td>532.124</td><td>94.3</td><td>1.133</td><td>97.6</td><td>89.5</td><td>4.035</td><td>2.074</td><td>27.93</td><td>13.844</td></tr>\n",
       "<tr><td>70</td><td>LL3</td><td>1.835</td><td>1.32518</td><td>1.27645</td><td>0.0648</td><td>0.04874</td><td>--</td><td>--</td><td>--</td><td>5:34:40.807</td><td>-5:26:38.54</td><td>566.331</td><td>69.8</td><td>1.83</td><td>89.2</td><td>99.6</td><td>3.119</td><td>1.284</td><td>6.544</td><td>3.085</td></tr>\n",
       "<tr><td>71</td><td>LL4</td><td>0.993</td><td>0.93622</td><td>0.88541</td><td>0.03252</td><td>0.05081</td><td>0.01044</td><td>0.00999</td><td>0.00045</td><td>5:34:42.719</td><td>-5:28:37.20</td><td>593.107</td><td>58.0</td><td>0.992</td><td>46.7</td><td>40.3</td><td>2.415</td><td>1.422</td><td>11.787</td><td>4.952</td></tr>\n",
       "<tr><td>72</td><td>LL5</td><td>1.506</td><td>3.83091</td><td>3.62858</td><td>0.07106</td><td>0.20232</td><td>0.04135</td><td>0.03961</td><td>0.00173</td><td>5:35:31.39775</td><td>-5:28:16.35750</td><td>369.536</td><td>322.7</td><td>1.487</td><td>339.7</td><td>339.7</td><td>2.963</td><td>1.456</td><td>11.577</td><td>3.517</td></tr>\n",
       "<tr><td>73</td><td>LL6</td><td>2.002</td><td>1.60634</td><td>1.54694</td><td>0.02763</td><td>0.0594</td><td>--</td><td>--</td><td>--</td><td>5:35:32.86575</td><td>-5:30:21.45250</td><td>485.816</td><td>329.6</td><td>2.049</td><td>7.6</td><td>18.0</td><td>3.628</td><td>1.626</td><td>29.899</td><td>14.201</td></tr>\n",
       "<tr><td>74</td><td>LL7</td><td>1.466</td><td>--</td><td>--</td><td>--</td><td>--</td><td>0.00615</td><td>0.0058</td><td>0.00035</td><td>5:35:35.126</td><td>-5:33:49.16</td><td>686.232</td><td>335.9</td><td>1.46</td><td>359.2</td><td>3.8</td><td>6.998</td><td>5.533</td><td>17.958</td><td>10.306</td></tr>\n",
       "<tr><td>75</td><td>w000-400</td><td>0.67</td><td>3.28544</td><td>3.16564</td><td>0.06684</td><td>0.1198</td><td>--</td><td>--</td><td>--</td><td>5:34:59.56575</td><td>-5:24:00.14500</td><td>254.035</td><td>81.5</td><td>0.675</td><td>71.9</td><td>73.4</td><td>1.465</td><td>0.795</td><td>4.369</td><td>2.432</td></tr>\n",
       "<tr><td>76</td><td>w005-514</td><td>0.501</td><td>4.20737</td><td>3.62744</td><td>0.05999</td><td>0.57994</td><td>--</td><td>--</td><td>--</td><td>5:35:00.471</td><td>-5:25:14.21</td><td>262.637</td><td>64.8</td><td>0.424</td><td>91.0</td><td>56.9</td><td>1.672</td><td>1.171</td><td>2.239</td><td>2.213</td></tr>\n",
       "<tr><td>77</td><td>w005-514</td><td>0.45</td><td>4.34164</td><td>3.77121</td><td>0.14796</td><td>0.57043</td><td>0.05147</td><td>0.04667</td><td>0.0048</td><td>5:35:00.46775</td><td>-5:25:14.29750</td><td>262.718</td><td>64.8</td><td>0.437</td><td>64.5</td><td>57.9</td><td>1.651</td><td>1.201</td><td>3.449</td><td>2.032</td></tr>\n",
       "<tr><td>78</td><td>w012-407</td><td>1.336</td><td>3.80317</td><td>3.6344</td><td>0.07637</td><td>0.16877</td><td>0.05073</td><td>0.04863</td><td>0.00211</td><td>5:35:01.17375</td><td>-5:24:06.67750</td><td>231.47</td><td>79.0</td><td>1.234</td><td>68.3</td><td>69.7</td><td>2.289</td><td>0.953</td><td>6.743</td><td>4.264</td></tr>\n",
       "<tr><td>79</td><td>w014-414</td><td>0.838</td><td>3.58592</td><td>3.42498</td><td>0.06693</td><td>0.16094</td><td>0.04862</td><td>0.04625</td><td>0.00237</td><td>5:35:01.37175</td><td>-5:24:13.36750</td><td>229.954</td><td>77.2</td><td>0.696</td><td>98.3</td><td>93.2</td><td>1.211</td><td>0.373</td><td>2.185</td><td>1.615</td></tr>\n",
       "<tr><td>80</td><td>w030-524</td><td>0.338</td><td>5.75068</td><td>5.60839</td><td>0.06457</td><td>0.14229</td><td>0.07304</td><td>0.07173</td><td>0.00131</td><td>5:35:03.00375</td><td>-5:25:24.35750</td><td>234.087</td><td>58.6</td><td>0.315</td><td>93.8</td><td>82.0</td><td>0.626</td><td>0.288</td><td>2.559</td><td>1.541</td></tr>\n",
       "<tr><td>81</td><td>w044-527</td><td>1.35</td><td>7.01087</td><td>6.78089</td><td>0.34995</td><td>0.22998</td><td>0.08877</td><td>0.08624</td><td>0.00253</td><td>5:35:04.427</td><td>-5:25:27.39</td><td>217.945</td><td>55.0</td><td>0.851</td><td>121.2</td><td>267.4</td><td>2.13</td><td>0.78</td><td>3.25</td><td>1.527</td></tr>\n",
       "<tr><td>82</td><td>w069-601</td><td>0.448</td><td>7.80525</td><td>7.32658</td><td>0.15199</td><td>0.47867</td><td>0.09599</td><td>0.09137</td><td>0.00462</td><td>5:35:06.90775</td><td>-5:26:00.57750</td><td>212.194</td><td>41.9</td><td>0.423</td><td>86.1</td><td>87.1</td><td>0.853</td><td>0.405</td><td>2.723</td><td>1.773</td></tr>\n",
       "<tr><td>83</td><td>w073-227</td><td>0.815</td><td>12.78356</td><td>11.58116</td><td>0.47323</td><td>1.20239</td><td>0.14904</td><td>0.13845</td><td>0.01059</td><td>5:35:07.26975</td><td>-5:22:26.49750</td><td>147.268</td><td>112.4</td><td>0.696</td><td>117.0</td><td>120.5</td><td>1.626</td><td>0.811</td><td>6.462</td><td>3.979</td></tr>\n",
       "<tr><td>84</td><td>w266-558</td><td>0.753</td><td>10.64965</td><td>9.99132</td><td>0.15489</td><td>0.65833</td><td>0.12396</td><td>0.11689</td><td>0.00707</td><td>5:35:26.618</td><td>-5:25:58.29</td><td>218.155</td><td>315.6</td><td>0.775</td><td>330.7</td><td>298.5</td><td>1.88</td><td>1.127</td><td>7.761</td><td>1.506</td></tr>\n",
       "</table><style>table.dataTable {clear: both; width: auto !important; margin: 0 !important;}\n",
       ".dataTables_info, .dataTables_length, .dataTables_filter, .dataTables_paginate{\n",
       "display: inline-block; margin-right: 1em; }\n",
       ".paginate_button { margin-right: 5px; }\n",
       "</style>\n",
       "<script>\n",
       "\n",
       "var astropy_sort_num = function(a, b) {\n",
       "    var a_num = parseFloat(a);\n",
       "    var b_num = parseFloat(b);\n",
       "\n",
       "    if (isNaN(a_num) && isNaN(b_num))\n",
       "        return ((a < b) ? -1 : ((a > b) ? 1 : 0));\n",
       "    else if (!isNaN(a_num) && !isNaN(b_num))\n",
       "        return ((a_num < b_num) ? -1 : ((a_num > b_num) ? 1 : 0));\n",
       "    else\n",
       "        return isNaN(a_num) ? -1 : 1;\n",
       "}\n",
       "\n",
       "require.config({paths: {\n",
       "    datatables: 'https://cdn.datatables.net/1.10.12/js/jquery.dataTables.min'\n",
       "}});\n",
       "require([\"datatables\"], function(){\n",
       "    console.log(\"$('#table140192369057040-474672').dataTable()\");\n",
       "    \n",
       "jQuery.extend( jQuery.fn.dataTableExt.oSort, {\n",
       "    \"optionalnum-asc\": astropy_sort_num,\n",
       "    \"optionalnum-desc\": function (a,b) { return -astropy_sort_num(a, b); }\n",
       "});\n",
       "\n",
       "    $('#table140192369057040-474672').dataTable({\n",
       "        order: [],\n",
       "        pageLength: 50,\n",
       "        lengthMenu: [[10, 25, 50, 100, 500, 1000, -1], [10, 25, 50, 100, 500, 1000, 'All']],\n",
       "        pagingType: \"full_numbers\",\n",
       "        columnDefs: [{targets: [0, 2, 3, 4, 5, 6, 7, 8, 9, 12, 13, 14, 15, 16, 17, 18, 19, 20], type: \"optionalnum\"}]\n",
       "    });\n",
       "});\n",
       "</script>\n"
      ],
      "text/plain": [
       "<IPython.core.display.HTML object>"
      ]
     },
     "execution_count": 5,
     "metadata": {},
     "output_type": "execute_result"
    }
   ],
   "source": [
    "tab.show_in_notebook()"
   ]
  },
  {
   "cell_type": "code",
   "execution_count": 12,
   "metadata": {},
   "outputs": [],
   "source": [
    "t2 = Table.read(datadir / \"arcs-summary-merge.ecsv\", format=\"ascii.ecsv\")"
   ]
  },
  {
   "cell_type": "code",
   "execution_count": 13,
   "metadata": {},
   "outputs": [
    {
     "data": {
      "text/html": [
       "<i>Table length=85</i>\n",
       "<table id=\"table140678582450928-319852\" class=\"table-striped table-bordered table-condensed\">\n",
       "<thead><tr><th>idx</th><th>Object</th><th>h_old</th><th>Value_Bally</th><th>Value_bg_Bally</th><th>Delta</th><th>Dif_Bally</th><th>Value_Robberto</th><th>Value_bg_Robberto_f656</th><th>Dif_Robberto_f656</th><th>RA</th><th>Dec</th><th>D</th><th>PA_star</th><th>h</th><th>PA_out</th><th>PA_in</th><th>R_out</th><th>R_in</th><th>Rc_out</th><th>Rc_in</th></tr></thead>\n",
       "<tr><td>0</td><td>022-635</td><td>0.354</td><td>2.80442</td><td>2.71902</td><td>0.04816</td><td>0.0854</td><td>0.03372</td><td>0.03274</td><td>0.00098</td><td>5:35:02.200</td><td>-5:26:35.33</td><td>286.472</td><td>47.7</td><td>0.341</td><td>83.2</td><td>77.5</td><td>1.104</td><td>0.75</td><td>4.456</td><td>2.29</td></tr>\n",
       "<tr><td>1</td><td>041-637</td><td>0.749</td><td>2.96955</td><td>2.92683</td><td>0.10903</td><td>0.04272</td><td>--</td><td>--</td><td>--</td><td>5:35:04.060</td><td>-5:26:37.06</td><td>267.84</td><td>43.4</td><td>0.766</td><td>4.2</td><td>15.5</td><td>1.937</td><td>1.189</td><td>4.395</td><td>3.232</td></tr>\n",
       "<tr><td>2</td><td>042-628</td><td>1.309</td><td>3.22114</td><td>3.0331</td><td>0.08318</td><td>0.18804</td><td>--</td><td>--</td><td>--</td><td>5:35:04.19875</td><td>-5:26:27.59750</td><td>259.592</td><td>44.5</td><td>1.339</td><td>61.6</td><td>56.1</td><td>3.069</td><td>1.76</td><td>6.901</td><td>3.606</td></tr>\n",
       "<tr><td>3</td><td>049-143</td><td>0.549</td><td>7.95741</td><td>7.8166</td><td>0.21904</td><td>0.14081</td><td>--</td><td>--</td><td>--</td><td>5:35:04.945</td><td>-5:21:42.92</td><td>197.821</td><td>120.2</td><td>0.56</td><td>103.1</td><td>139.0</td><td>1.173</td><td>0.625</td><td>4.178</td><td>0.662</td></tr>\n",
       "<tr><td>4</td><td>051-024</td><td>0.292</td><td>6.38142</td><td>6.3423</td><td>0.15466</td><td>0.03913</td><td>--</td><td>--</td><td>--</td><td>5:35:05.131</td><td>-5:20:24.32</td><td>245.01</td><td>136.7</td><td>0.269</td><td>136.5</td><td>123.6</td><td>1.186</td><td>0.895</td><td>2.287</td><td>1.663</td></tr>\n",
       "<tr><td>5</td><td>065-502</td><td>0.93</td><td>9.60864</td><td>9.2402</td><td>0.692</td><td>0.36845</td><td>0.12369</td><td>0.11919</td><td>0.0045</td><td>5:35:06.53975</td><td>-5:25:01.50750</td><td>177.288</td><td>56.1</td><td>1.214</td><td>90.5</td><td>104.7</td><td>1.422</td><td>0.491</td><td>7.737</td><td>2.31</td></tr>\n",
       "<tr><td>6</td><td>066-3251</td><td>0.0</td><td>0.9432</td><td>0.91176</td><td>0.03996</td><td>0.03144</td><td>--</td><td>--</td><td>--</td><td>5:35:06.56919</td><td>-5:32:51.43000</td><td>587.491</td><td>14.5</td><td>0.0</td><td>300.1</td><td>--</td><td>1.068</td><td>--</td><td>1.588</td><td>--</td></tr>\n",
       "<tr><td>7</td><td>066-652</td><td>--</td><td>--</td><td>--</td><td>--</td><td>--</td><td>--</td><td>--</td><td>--</td><td>5:35:06.588</td><td>-5:26:52.38</td><td>255.852</td><td>34.9</td><td>0.102</td><td>316.8</td><td>341.9</td><td>0.028</td><td>-0.075</td><td>0.575</td><td>0.6</td></tr>\n",
       "<tr><td>8</td><td>072-134</td><td>2.429</td><td>12.93193</td><td>12.63087</td><td>0.31066</td><td>0.30106</td><td>--</td><td>--</td><td>--</td><td>5:35:07.20375</td><td>-5:21:34.29500</td><td>174.737</td><td>128.3</td><td>2.419</td><td>89.7</td><td>94.5</td><td>4.69</td><td>2.261</td><td>17.626</td><td>7.286</td></tr>\n",
       "<tr><td>9</td><td>074-229</td><td>0.566</td><td>12.1149</td><td>11.54646</td><td>0.3202</td><td>0.56844</td><td>--</td><td>--</td><td>--</td><td>5:35:07.384</td><td>-5:22:28.92</td><td>144.777</td><td>111.7</td><td>0.596</td><td>120.3</td><td>185.7</td><td>1.357</td><td>0.79</td><td>1.601</td><td>0.748</td></tr>\n",
       "<tr><td>10</td><td>083-435</td><td>0.703</td><td>12.40549</td><td>12.32781</td><td>0.17918</td><td>0.07768</td><td>0.17284</td><td>0.17164</td><td>0.00121</td><td>5:35:08.29275</td><td>-5:24:34.85750</td><td>140.892</td><td>59.1</td><td>0.579</td><td>84.0</td><td>40.5</td><td>1.247</td><td>0.544</td><td>2.005</td><td>0.664</td></tr>\n",
       "<tr><td>11</td><td>101-233</td><td>0.346</td><td>28.11431</td><td>28.40083</td><td>2.8809</td><td>-0.28652</td><td>0.33987</td><td>0.33494</td><td>0.00493</td><td>5:35:10.133</td><td>-5:22:32.60</td><td>105.936</td><td>118.1</td><td>0.419</td><td>131.4</td><td>136.6</td><td>2.458</td><td>2.111</td><td>4.356</td><td>4.206</td></tr>\n",
       "<tr><td>12</td><td>102-157</td><td>0.394</td><td>17.19631</td><td>16.79779</td><td>0.57697</td><td>0.39851</td><td>0.21035</td><td>0.20436</td><td>0.006</td><td>5:35:10.25075</td><td>-5:21:57.11750</td><td>125.297</td><td>133.0</td><td>0.45</td><td>118.5</td><td>116.6</td><td>0.796</td><td>0.402</td><td>5.03</td><td>3.542</td></tr>\n",
       "<tr><td>13</td><td>106-245</td><td>0.4</td><td>34.09301</td><td>31.70072</td><td>0.40087</td><td>2.39229</td><td>0.42202</td><td>0.40328</td><td>0.01874</td><td>5:35:10.576</td><td>-5:22:44.69</td><td>94.703</td><td>113.5</td><td>0.38</td><td>122.7</td><td>99.0</td><td>0.627</td><td>0.228</td><td>2.476</td><td>1.121</td></tr>\n",
       "<tr><td>14</td><td>109-246</td><td>0.626</td><td>39.05883</td><td>35.3827</td><td>1.62604</td><td>3.67613</td><td>0.49852</td><td>0.45784</td><td>0.04068</td><td>5:35:10.89575</td><td>-5:22:46.31750</td><td>89.677</td><td>113.8</td><td>0.704</td><td>112.9</td><td>119.5</td><td>1.948</td><td>1.322</td><td>10.638</td><td>7.325</td></tr>\n",
       "<tr><td>15</td><td>116-3101</td><td>0.449</td><td>0.86913</td><td>0.83316</td><td>0.0204</td><td>0.03597</td><td>--</td><td>--</td><td>--</td><td>5:35:11.65419</td><td>-5:31:01.03000</td><td>463.921</td><td>8.8</td><td>0.44</td><td>24.0</td><td>7.9</td><td>1.452</td><td>1.004</td><td>2.695</td><td>1.574</td></tr>\n",
       "<tr><td>16</td><td>117-421</td><td>1.292</td><td>--</td><td>--</td><td>--</td><td>--</td><td>--</td><td>--</td><td>--</td><td>5:35:11.650</td><td>-5:24:21.41</td><td>92.067</td><td>50.2</td><td>1.374</td><td>99.1</td><td>96.7</td><td>2.001</td><td>0.71</td><td>6.946</td><td>2.774</td></tr>\n",
       "<tr><td>17</td><td>119-3155</td><td>1.065</td><td>0.79579</td><td>0.77475</td><td>0.0197</td><td>0.02103</td><td>0.00906</td><td>0.00877</td><td>0.00029</td><td>5:35:11.926</td><td>-5:31:53.30</td><td>515.101</td><td>7.4</td><td>1.002</td><td>33.3</td><td>35.3</td><td>3.015</td><td>1.951</td><td>6.727</td><td>5.11</td></tr>\n",
       "<tr><td>18</td><td>121-434</td><td>0.412</td><td>19.46307</td><td>18.82996</td><td>0.6803</td><td>0.6331</td><td>0.0</td><td>0.0</td><td>0.0</td><td>5:35:12.12175</td><td>-5:24:33.75750</td><td>95.578</td><td>41.8</td><td>0.39</td><td>65.4</td><td>66.2</td><td>0.757</td><td>0.344</td><td>1.413</td><td>0.688</td></tr>\n",
       "<tr><td>19</td><td>124-131</td><td>--</td><td>--</td><td>--</td><td>--</td><td>--</td><td>--</td><td>--</td><td>--</td><td>5:35:12.383</td><td>-5:21:31.41</td><td>126.201</td><td>151.7</td><td>1.733</td><td>134.9</td><td>156.0</td><td>4.477</td><td>2.744</td><td>5.95</td><td>10.415</td></tr>\n",
       "<tr><td>20</td><td>131-046</td><td>2.548</td><td>15.00281</td><td>15.3283</td><td>2.92449</td><td>-0.32549</td><td>--</td><td>--</td><td>--</td><td>5:35:13.05537</td><td>-5:20:45.78625</td><td>164.46</td><td>162.4</td><td>2.168</td><td>140.3</td><td>144.2</td><td>3.546</td><td>0.999</td><td>7.325</td><td>5.645</td></tr>\n",
       "<tr><td>21</td><td>132-053</td><td>0.401</td><td>18.36519</td><td>18.21818</td><td>0.3856</td><td>0.14701</td><td>0.22867</td><td>0.2285</td><td>0.00017</td><td>5:35:13.202</td><td>-5:20:52.59</td><td>157.312</td><td>162.4</td><td>0.392</td><td>153.9</td><td>167.0</td><td>0.718</td><td>0.317</td><td>1.803</td><td>0.676</td></tr>\n",
       "<tr><td>22</td><td>136-3057</td><td>5.226</td><td>0.855</td><td>0.81089</td><td>0.03269</td><td>0.04411</td><td>--</td><td>--</td><td>--</td><td>5:35:13.60719</td><td>-5:30:57.56000</td><td>456.925</td><td>5.2</td><td>4.51</td><td>10.9</td><td>4.4</td><td>10.133</td><td>4.907</td><td>18.706</td><td>10.203</td></tr>\n",
       "<tr><td>23</td><td>138-3024</td><td>1.148</td><td>0.88077</td><td>0.86639</td><td>0.0302</td><td>0.01438</td><td>0.00656</td><td>0.00646</td><td>0.0001</td><td>5:35:13.79919</td><td>-5:30:24.40000</td><td>423.642</td><td>5.2</td><td>1.107</td><td>22.2</td><td>17.4</td><td>3.893</td><td>2.744</td><td>8.539</td><td>4.787</td></tr>\n",
       "<tr><td>24</td><td>142-301</td><td>0.6</td><td>73.17567</td><td>64.88542</td><td>3.75324</td><td>8.29025</td><td>0.93401</td><td>0.84074</td><td>0.09327</td><td>5:35:14.158</td><td>-5:23:01.00</td><td>39.672</td><td>122.9</td><td>0.6</td><td>91.5</td><td>98.6</td><td>2.422</td><td>1.822</td><td>6.062</td><td>4.547</td></tr>\n",
       "<tr><td>25</td><td>154-225</td><td>0.651</td><td>43.59189</td><td>40.77802</td><td>3.25019</td><td>2.81387</td><td>0.52037</td><td>0.48765</td><td>0.03272</td><td>5:35:15.367</td><td>-5:22:25.31</td><td>59.219</td><td>165.1</td><td>0.584</td><td>158.0</td><td>193.1</td><td>1.287</td><td>0.636</td><td>3.421</td><td>1.051</td></tr>\n",
       "<tr><td>26</td><td>154-240</td><td>0.0</td><td>54.42364</td><td>54.05792</td><td>12.38136</td><td>0.36571</td><td>0.67024</td><td>0.68345</td><td>-0.01321</td><td>5:35:15.383</td><td>-5:22:39.79</td><td>45.303</td><td>160.6</td><td>0.0</td><td>--</td><td>202.3</td><td>--</td><td>1.72</td><td>--</td><td>2.3</td></tr>\n",
       "<tr><td>27</td><td>158-323</td><td>0.435</td><td>72.05925</td><td>66.38213</td><td>7.76588</td><td>5.67712</td><td>0.88137</td><td>0.81426</td><td>0.06711</td><td>5:35:15.831</td><td>-5:23:22.51</td><td>8.338</td><td>90.1</td><td>0.206</td><td>114.8</td><td>120.0</td><td>1.849</td><td>1.643</td><td>2.92</td><td>2.354</td></tr>\n",
       "<tr><td>28</td><td>159-221</td><td>0.0</td><td>44.96685</td><td>45.29734</td><td>2.64143</td><td>-0.33049</td><td>0.49168</td><td>0.49655</td><td>-0.00488</td><td>5:35:15.934</td><td>-5:22:21.04</td><td>61.862</td><td>173.7</td><td>0.0</td><td>--</td><td>215.4</td><td>--</td><td>0.834</td><td>--</td><td>1.582</td></tr>\n",
       "<tr><td>29</td><td>160-350</td><td>--</td><td>--</td><td>--</td><td>--</td><td>--</td><td>--</td><td>--</td><td>--</td><td>5:35:15.958</td><td>-5:23:49.68</td><td>27.906</td><td>13.3</td><td>0.067</td><td>226.2</td><td>224.3</td><td>0.109</td><td>0.042</td><td>0.598</td><td>0.294</td></tr>\n",
       "<tr><td>30</td><td>161-324</td><td>0.36</td><td>63.38539</td><td>60.03492</td><td>2.05702</td><td>3.35047</td><td>0.76946</td><td>0.72718</td><td>0.04228</td><td>5:35:16.056</td><td>-5:23:24.33</td><td>5.295</td><td>70.1</td><td>0.255</td><td>70.7</td><td>76.6</td><td>1.159</td><td>0.904</td><td>3.013</td><td>2.027</td></tr>\n",
       "<tr><td>31</td><td>162-456</td><td>--</td><td>--</td><td>--</td><td>--</td><td>--</td><td>--</td><td>--</td><td>--</td><td>5:35:16.182</td><td>-5:24:56.39</td><td>93.914</td><td>1.9</td><td>0.086</td><td>28.8</td><td>49.2</td><td>0.294</td><td>0.208</td><td>0.853</td><td>0.785</td></tr>\n",
       "<tr><td>32</td><td>163-222</td><td>0.43</td><td>44.14778</td><td>46.0239</td><td>1.41854</td><td>-1.87612</td><td>0.49505</td><td>0.5153</td><td>-0.02025</td><td>5:35:16.303</td><td>-5:22:21.47</td><td>61.071</td><td>178.8</td><td>0.356</td><td>198.9</td><td>180.1</td><td>1.538</td><td>1.108</td><td>1.805</td><td>1.549</td></tr>\n",
       "<tr><td>33</td><td>163-317</td><td>0.277</td><td>69.13676</td><td>68.48918</td><td>4.21819</td><td>0.64758</td><td>0.89688</td><td>0.89082</td><td>0.00605</td><td>5:35:16.282</td><td>-5:23:16.63</td><td>6.111</td><td>164.8</td><td>0.395</td><td>148.6</td><td>145.5</td><td>2.323</td><td>1.928</td><td>4.904</td><td>4.437</td></tr>\n",
       "<tr><td>34</td><td>165-235</td><td>0.551</td><td>53.12876</td><td>50.26978</td><td>4.69804</td><td>2.85897</td><td>0.64141</td><td>0.631</td><td>0.01041</td><td>5:35:16.475</td><td>-5:22:35.22</td><td>47.325</td><td>181.5</td><td>0.472</td><td>197.5</td><td>193.2</td><td>1.776</td><td>1.225</td><td>3.842</td><td>3.437</td></tr>\n",
       "<tr><td>35</td><td>166-316</td><td>0.203</td><td>72.15591</td><td>71.47672</td><td>3.25257</td><td>0.67918</td><td>0.92942</td><td>0.93347</td><td>-0.00405</td><td>5:35:16.607</td><td>-5:23:16.16</td><td>7.149</td><td>207.0</td><td>0.279</td><td>181.4</td><td>160.5</td><td>0.694</td><td>0.415</td><td>1.191</td><td>0.851</td></tr>\n",
       "<tr><td>36</td><td>167-317</td><td>0.514</td><td>167.94201</td><td>66.33839</td><td>19.07337</td><td>101.60362</td><td>0.87149</td><td>0.86437</td><td>0.00711</td><td>5:35:16.739</td><td>-5:23:16.50</td><td>7.974</td><td>220.9</td><td>0.706</td><td>178.1</td><td>165.4</td><td>1.96</td><td>1.254</td><td>3.286</td><td>2.052</td></tr>\n",
       "<tr><td>37</td><td>168-326</td><td>0.21</td><td>72.67345</td><td>64.17395</td><td>3.0276</td><td>8.4995</td><td>0.95333</td><td>0.84818</td><td>0.10514</td><td>5:35:16.839</td><td>-5:23:26.32</td><td>7.712</td><td>299.5</td><td>0.196</td><td>314.5</td><td>328.1</td><td>0.947</td><td>0.737</td><td>3.044</td><td>3.011</td></tr>\n",
       "<tr><td>38</td><td>168-326N</td><td>0.119</td><td>187.52268</td><td>186.47194</td><td>3.57901</td><td>1.05074</td><td>1.96906</td><td>1.83933</td><td>0.12973</td><td>5:35:16.835</td><td>-5:23:25.97</td><td>7.493</td><td>297.4</td><td>0.111</td><td>137.0</td><td>142.2</td><td>0.229</td><td>0.118</td><td>1.044</td><td>0.79</td></tr>\n",
       "<tr><td>39</td><td>168-328</td><td>0.235</td><td>53.39705</td><td>50.46761</td><td>3.71374</td><td>2.92944</td><td>1.02871</td><td>0.87565</td><td>0.15306</td><td>5:35:16.757</td><td>-5:23:28.05</td><td>7.787</td><td>315.2</td><td>0.272</td><td>345.3</td><td>353.0</td><td>1.062</td><td>0.789</td><td>1.315</td><td>0.799</td></tr>\n",
       "<tr><td>40</td><td>169-338</td><td>0.51</td><td>45.98507</td><td>45.6046</td><td>1.26636</td><td>0.38047</td><td>0.59301</td><td>0.59464</td><td>-0.00164</td><td>5:35:16.880</td><td>-5:23:38.02</td><td>17.138</td><td>334.7</td><td>0.351</td><td>345.9</td><td>6.4</td><td>1.031</td><td>0.68</td><td>2.037</td><td>0.719</td></tr>\n",
       "<tr><td>41</td><td>170-249</td><td>0.84</td><td>52.84594</td><td>50.16077</td><td>8.01456</td><td>2.68518</td><td>0.70104</td><td>0.66688</td><td>0.03415</td><td>5:35:16.967</td><td>-5:22:48.44</td><td>35.162</td><td>194.2</td><td>0.777</td><td>173.4</td><td>193.3</td><td>3.225</td><td>2.448</td><td>6.92</td><td>4.755</td></tr>\n",
       "<tr><td>42</td><td>173-236</td><td>0.579</td><td>71.0402</td><td>58.41909</td><td>33.9966</td><td>12.62112</td><td>0.46573</td><td>0.46083</td><td>0.0049</td><td>5:35:17.352</td><td>-5:22:35.73</td><td>48.956</td><td>197.1</td><td>0.753</td><td>255.3</td><td>275.5</td><td>2.28</td><td>1.527</td><td>1.364</td><td>1.935</td></tr>\n",
       "<tr><td>43</td><td>173-342</td><td>0.336</td><td>38.96898</td><td>35.82955</td><td>1.73145</td><td>3.13943</td><td>0.52909</td><td>0.48668</td><td>0.04241</td><td>5:35:17.324</td><td>-5:23:41.39</td><td>23.465</td><td>323.5</td><td>0.462</td><td>82.2</td><td>76.1</td><td>1.29</td><td>0.828</td><td>3.312</td><td>1.719</td></tr>\n",
       "<tr><td>44</td><td>175-321</td><td>0.647</td><td>64.97197</td><td>61.57776</td><td>6.88164</td><td>3.39421</td><td>0.90874</td><td>0.84792</td><td>0.06081</td><td>5:35:17.458</td><td>-5:23:21.06</td><td>16.026</td><td>264.7</td><td>0.598</td><td>298.7</td><td>324.5</td><td>2.031</td><td>1.384</td><td>2.478</td><td>2.626</td></tr>\n",
       "<tr><td>45</td><td>177-341</td><td>0.484</td><td>34.57974</td><td>32.28169</td><td>3.52831</td><td>2.29805</td><td>0.46255</td><td>0.43383</td><td>0.02873</td><td>5:35:17.667</td><td>-5:23:40.98</td><td>26.543</td><td>314.0</td><td>0.749</td><td>317.0</td><td>293.7</td><td>3.813</td><td>3.064</td><td>4.247</td><td>3.867</td></tr>\n",
       "<tr><td>46</td><td>178-258</td><td>0.556</td><td>47.28008</td><td>45.6936</td><td>3.97348</td><td>1.58649</td><td>0.62452</td><td>0.61229</td><td>0.01222</td><td>5:35:17.819</td><td>-5:22:58.06</td><td>32.473</td><td>221.1</td><td>0.524</td><td>218.7</td><td>210.3</td><td>1.479</td><td>0.923</td><td>3.944</td><td>3.43</td></tr>\n",
       "<tr><td>47</td><td>180-331</td><td>0.348</td><td>33.66978</td><td>29.37365</td><td>0.98675</td><td>4.29613</td><td>0.45206</td><td>0.39826</td><td>0.0538</td><td>5:35:18.033</td><td>-5:23:30.82</td><td>25.909</td><td>288.7</td><td>0.326</td><td>280.8</td><td>282.0</td><td>1.44</td><td>1.114</td><td>2.361</td><td>1.772</td></tr>\n",
       "<tr><td>48</td><td>189-329</td><td>0.859</td><td>47.19997</td><td>38.35084</td><td>2.75772</td><td>8.84913</td><td>0.63799</td><td>0.52809</td><td>0.1099</td><td>5:35:18.868</td><td>-5:23:28.88</td><td>37.556</td><td>279.7</td><td>0.856</td><td>296.4</td><td>264.0</td><td>1.397</td><td>0.538</td><td>6.318</td><td>0.833</td></tr>\n",
       "<tr><td>49</td><td>203-3039</td><td>3.623</td><td>1.00679</td><td>0.97275</td><td>0.03439</td><td>0.03404</td><td>--</td><td>--</td><td>--</td><td>5:35:20.289</td><td>-5:30:39.38</td><td>440.716</td><td>352.4</td><td>3.06</td><td>359.4</td><td>8.2</td><td>5.384</td><td>1.761</td><td>17.897</td><td>14.501</td></tr>\n",
       "<tr><td>50</td><td>204-330</td><td>0.193</td><td>25.40776</td><td>23.73507</td><td>7.9371</td><td>1.67269</td><td>0.32456</td><td>0.31862</td><td>0.00594</td><td>5:35:20.402</td><td>-5:23:30.01</td><td>60.389</td><td>277.1</td><td>0.221</td><td>112.4</td><td>119.0</td><td>0.333</td><td>0.112</td><td>1.336</td><td>1.281</td></tr>\n",
       "<tr><td>51</td><td>206-043</td><td>0.492</td><td>6.98491</td><td>6.86317</td><td>0.21298</td><td>0.12174</td><td>0.07606</td><td>0.07532</td><td>0.00074</td><td>5:35:20.561</td><td>-5:20:43.11</td><td>171.159</td><td>201.3</td><td>0.443</td><td>176.1</td><td>182.7</td><td>1.609</td><td>1.117</td><td>2.186</td><td>2.077</td></tr>\n",
       "<tr><td>52</td><td>212-400</td><td>0.231</td><td>23.35838</td><td>23.35675</td><td>0.90075</td><td>0.00163</td><td>0.33293</td><td>0.33175</td><td>0.00117</td><td>5:35:21.181</td><td>-5:24:00.46</td><td>80.988</td><td>297.9</td><td>0.213</td><td>331.2</td><td>335.5</td><td>1.075</td><td>0.844</td><td>0.831</td><td>0.518</td></tr>\n",
       "<tr><td>53</td><td>261-3018</td><td>2.472</td><td>1.2977</td><td>1.23048</td><td>0.04793</td><td>0.06722</td><td>--</td><td>--</td><td>--</td><td>5:35:26.16875</td><td>-5:30:18.01750</td><td>440.4</td><td>340.6</td><td>2.591</td><td>1.7</td><td>357.1</td><td>4.986</td><td>2.514</td><td>33.288</td><td>3.586</td></tr>\n",
       "<tr><td>54</td><td>305-811</td><td>0.83</td><td>3.87871</td><td>3.82292</td><td>0.07767</td><td>0.05579</td><td>0.04166</td><td>0.0413</td><td>0.00036</td><td>5:35:30.43675</td><td>-5:28:11.23750</td><td>356.86</td><td>324.0</td><td>0.8</td><td>358.6</td><td>349.7</td><td>1.721</td><td>0.891</td><td>4.924</td><td>3.993</td></tr>\n",
       "<tr><td>55</td><td>308-3036</td><td>1.118</td><td>1.26723</td><td>1.23217</td><td>0.03</td><td>0.03507</td><td>--</td><td>--</td><td>--</td><td>5:35:30.79475</td><td>-5:30:36.25250</td><td>484.126</td><td>333.6</td><td>1.125</td><td>359.9</td><td>329.8</td><td>2.557</td><td>1.438</td><td>4.497</td><td>1.782</td></tr>\n",
       "<tr><td>56</td><td>344-3020</td><td>0.986</td><td>1.49703</td><td>1.46875</td><td>0.0295</td><td>0.02828</td><td>--</td><td>--</td><td>--</td><td>5:35:34.36275</td><td>-5:30:20.56250</td><td>496.758</td><td>327.3</td><td>0.947</td><td>334.9</td><td>325.5</td><td>1.659</td><td>0.673</td><td>3.155</td><td>4.423</td></tr>\n",
       "<tr><td>57</td><td>362-3137</td><td>1.549</td><td>0.85401</td><td>0.81872</td><td>0.02242</td><td>0.0353</td><td>0.0086</td><td>0.0082</td><td>0.0004</td><td>5:35:36.34775</td><td>-5:31:37.75250</td><td>577.964</td><td>329.0</td><td>1.465</td><td>6.4</td><td>267.8</td><td>3.121</td><td>1.572</td><td>4.245</td><td>2.222</td></tr>\n",
       "<tr><td>58</td><td>4285-458</td><td>--</td><td>--</td><td>--</td><td>--</td><td>--</td><td>--</td><td>--</td><td>--</td><td>5:34:28.520</td><td>-5:24:57.88</td><td>721.182</td><td>82.4</td><td>0.0</td><td>87.0</td><td>--</td><td>1.913</td><td>--</td><td>4.344</td><td>--</td></tr>\n",
       "<tr><td>59</td><td>4417-653</td><td>0.471</td><td>--</td><td>--</td><td>--</td><td>--</td><td>--</td><td>--</td><td>--</td><td>5:34:41.699</td><td>-5:26:52.92</td><td>559.124</td><td>67.9</td><td>0.452</td><td>57.3</td><td>49.8</td><td>1.194</td><td>0.723</td><td>2.897</td><td>1.673</td></tr>\n",
       "<tr><td>60</td><td>4468-605</td><td>1.138</td><td>1.46605</td><td>1.44362</td><td>0.02834</td><td>0.02244</td><td>0.01577</td><td>0.01566</td><td>0.00011</td><td>5:34:46.75775</td><td>-5:26:04.81750</td><td>471.3</td><td>69.9</td><td>1.199</td><td>54.2</td><td>59.6</td><td>2.469</td><td>1.331</td><td>7.109</td><td>2.223</td></tr>\n",
       "<tr><td>61</td><td>4491-627</td><td>0.827</td><td>--</td><td>--</td><td>--</td><td>--</td><td>--</td><td>--</td><td>--</td><td>5:34:49.066</td><td>-5:26:26.51</td><td>447.584</td><td>65.7</td><td>0.79</td><td>72.3</td><td>76.4</td><td>2.017</td><td>1.189</td><td>4.17</td><td>2.446</td></tr>\n",
       "<tr><td>62</td><td>4505-336</td><td>0.689</td><td>--</td><td>--</td><td>--</td><td>--</td><td>--</td><td>--</td><td>--</td><td>5:34:50.492</td><td>-5:23:35.28</td><td>386.952</td><td>88.1</td><td>0.661</td><td>99.8</td><td>99.5</td><td>1.622</td><td>0.932</td><td>3.493</td><td>1.975</td></tr>\n",
       "<tr><td>63</td><td>4520-419</td><td>0.313</td><td>--</td><td>--</td><td>--</td><td>--</td><td>--</td><td>--</td><td>--</td><td>5:34:52.008</td><td>-5:24:18.73</td><td>368.411</td><td>81.2</td><td>0.32</td><td>84.3</td><td>85.2</td><td>1.387</td><td>1.074</td><td>2.921</td><td>2.296</td></tr>\n",
       "<tr><td>64</td><td>4531-628</td><td>0.327</td><td>--</td><td>--</td><td>--</td><td>--</td><td>--</td><td>--</td><td>--</td><td>5:34:53.072</td><td>-5:26:27.56</td><td>394.309</td><td>62.0</td><td>0.325</td><td>104.0</td><td>89.0</td><td>0.792</td><td>0.464</td><td>1.524</td><td>0.93</td></tr>\n",
       "<tr><td>65</td><td>4550-659</td><td>0.732</td><td>--</td><td>--</td><td>--</td><td>--</td><td>--</td><td>--</td><td>--</td><td>5:34:55.013</td><td>-5:26:58.79</td><td>385.572</td><td>55.9</td><td>0.448</td><td>68.1</td><td>71.8</td><td>1.608</td><td>0.876</td><td>3.817</td><td>2.231</td></tr>\n",
       "<tr><td>66</td><td>4578-251</td><td>0.659</td><td>3.00165</td><td>2.93275</td><td>0.06126</td><td>0.06891</td><td>0.03702</td><td>0.03619</td><td>0.00082</td><td>5:34:57.79275</td><td>-5:22:51.09500</td><td>279.493</td><td>96.5</td><td>0.533</td><td>81.2</td><td>125.0</td><td>1.846</td><td>1.188</td><td>3.52</td><td>2.074</td></tr>\n",
       "<tr><td>67</td><td>4582-635</td><td>0.424</td><td>2.68983</td><td>2.6366</td><td>0.12135</td><td>0.05323</td><td>--</td><td>--</td><td>--</td><td>5:34:58.16675</td><td>-5:26:35.12750</td><td>333.372</td><td>54.7</td><td>0.455</td><td>65.7</td><td>50.5</td><td>1.106</td><td>0.682</td><td>2.931</td><td>2.056</td></tr>\n",
       "<tr><td>68</td><td>LL1</td><td>1.153</td><td>10.82417</td><td>7.83614</td><td>0.63168</td><td>2.98803</td><td>0.13365</td><td>0.10267</td><td>0.03098</td><td>5:35:05.63675</td><td>-5:25:19.44750</td><td>198.626</td><td>53.9</td><td>1.128</td><td>84.4</td><td>78.1</td><td>3.057</td><td>1.904</td><td>8.721</td><td>7.132</td></tr>\n",
       "<tr><td>69</td><td>LL2</td><td>1.961</td><td>1.98162</td><td>1.64726</td><td>0.06471</td><td>0.33436</td><td>--</td><td>--</td><td>--</td><td>5:34:40.860</td><td>-5:22:42.20</td><td>532.124</td><td>94.3</td><td>1.133</td><td>97.6</td><td>89.5</td><td>4.035</td><td>2.074</td><td>27.93</td><td>13.844</td></tr>\n",
       "<tr><td>70</td><td>LL3</td><td>1.835</td><td>1.32518</td><td>1.27645</td><td>0.0648</td><td>0.04874</td><td>--</td><td>--</td><td>--</td><td>5:34:40.807</td><td>-5:26:38.54</td><td>566.331</td><td>69.8</td><td>1.83</td><td>89.2</td><td>99.6</td><td>3.119</td><td>1.284</td><td>6.544</td><td>3.085</td></tr>\n",
       "<tr><td>71</td><td>LL4</td><td>0.993</td><td>0.93622</td><td>0.88541</td><td>0.03252</td><td>0.05081</td><td>0.01044</td><td>0.00999</td><td>0.00045</td><td>5:34:42.719</td><td>-5:28:37.20</td><td>593.107</td><td>58.0</td><td>0.992</td><td>46.7</td><td>40.3</td><td>2.415</td><td>1.422</td><td>11.787</td><td>4.952</td></tr>\n",
       "<tr><td>72</td><td>LL5</td><td>1.506</td><td>3.83091</td><td>3.62858</td><td>0.07106</td><td>0.20232</td><td>0.04135</td><td>0.03961</td><td>0.00173</td><td>5:35:31.39775</td><td>-5:28:16.35750</td><td>369.536</td><td>322.7</td><td>1.487</td><td>339.7</td><td>339.7</td><td>2.963</td><td>1.456</td><td>11.577</td><td>3.517</td></tr>\n",
       "<tr><td>73</td><td>LL6</td><td>2.002</td><td>1.60634</td><td>1.54694</td><td>0.02763</td><td>0.0594</td><td>--</td><td>--</td><td>--</td><td>5:35:32.86575</td><td>-5:30:21.45250</td><td>485.816</td><td>329.6</td><td>2.049</td><td>7.6</td><td>18.0</td><td>3.628</td><td>1.626</td><td>29.899</td><td>14.201</td></tr>\n",
       "<tr><td>74</td><td>LL7</td><td>1.466</td><td>--</td><td>--</td><td>--</td><td>--</td><td>0.00615</td><td>0.0058</td><td>0.00035</td><td>5:35:35.126</td><td>-5:33:49.16</td><td>686.232</td><td>335.9</td><td>1.46</td><td>359.2</td><td>3.8</td><td>6.998</td><td>5.533</td><td>17.958</td><td>10.306</td></tr>\n",
       "<tr><td>75</td><td>w000-400</td><td>0.67</td><td>3.28544</td><td>3.16564</td><td>0.06684</td><td>0.1198</td><td>--</td><td>--</td><td>--</td><td>5:34:59.56575</td><td>-5:24:00.14500</td><td>254.035</td><td>81.5</td><td>0.675</td><td>71.9</td><td>73.4</td><td>1.465</td><td>0.795</td><td>4.369</td><td>2.432</td></tr>\n",
       "<tr><td>76</td><td>w005-514</td><td>0.501</td><td>4.20737</td><td>3.62744</td><td>0.05999</td><td>0.57994</td><td>--</td><td>--</td><td>--</td><td>5:35:00.471</td><td>-5:25:14.21</td><td>262.637</td><td>64.8</td><td>0.424</td><td>91.0</td><td>56.9</td><td>1.672</td><td>1.171</td><td>2.239</td><td>2.213</td></tr>\n",
       "<tr><td>77</td><td>w005-514</td><td>0.45</td><td>4.34164</td><td>3.77121</td><td>0.14796</td><td>0.57043</td><td>0.05147</td><td>0.04667</td><td>0.0048</td><td>5:35:00.46775</td><td>-5:25:14.29750</td><td>262.718</td><td>64.8</td><td>0.437</td><td>64.5</td><td>57.9</td><td>1.651</td><td>1.201</td><td>3.449</td><td>2.032</td></tr>\n",
       "<tr><td>78</td><td>w012-407</td><td>1.336</td><td>3.80317</td><td>3.6344</td><td>0.07637</td><td>0.16877</td><td>0.05073</td><td>0.04863</td><td>0.00211</td><td>5:35:01.17375</td><td>-5:24:06.67750</td><td>231.47</td><td>79.0</td><td>1.234</td><td>68.3</td><td>69.7</td><td>2.289</td><td>0.953</td><td>6.743</td><td>4.264</td></tr>\n",
       "<tr><td>79</td><td>w014-414</td><td>0.838</td><td>3.58592</td><td>3.42498</td><td>0.06693</td><td>0.16094</td><td>0.04862</td><td>0.04625</td><td>0.00237</td><td>5:35:01.37175</td><td>-5:24:13.36750</td><td>229.954</td><td>77.2</td><td>0.696</td><td>98.3</td><td>93.2</td><td>1.211</td><td>0.373</td><td>2.185</td><td>1.615</td></tr>\n",
       "<tr><td>80</td><td>w030-524</td><td>0.338</td><td>5.75068</td><td>5.60839</td><td>0.06457</td><td>0.14229</td><td>0.07304</td><td>0.07173</td><td>0.00131</td><td>5:35:03.00375</td><td>-5:25:24.35750</td><td>234.087</td><td>58.6</td><td>0.315</td><td>93.8</td><td>82.0</td><td>0.626</td><td>0.288</td><td>2.559</td><td>1.541</td></tr>\n",
       "<tr><td>81</td><td>w044-527</td><td>1.35</td><td>7.01087</td><td>6.78089</td><td>0.34995</td><td>0.22998</td><td>0.08877</td><td>0.08624</td><td>0.00253</td><td>5:35:04.427</td><td>-5:25:27.39</td><td>217.945</td><td>55.0</td><td>0.851</td><td>121.2</td><td>267.4</td><td>2.13</td><td>0.78</td><td>3.25</td><td>1.527</td></tr>\n",
       "<tr><td>82</td><td>w069-601</td><td>0.448</td><td>7.80525</td><td>7.32658</td><td>0.15199</td><td>0.47867</td><td>0.09599</td><td>0.09137</td><td>0.00462</td><td>5:35:06.90775</td><td>-5:26:00.57750</td><td>212.194</td><td>41.9</td><td>0.423</td><td>86.1</td><td>87.1</td><td>0.853</td><td>0.405</td><td>2.723</td><td>1.773</td></tr>\n",
       "<tr><td>83</td><td>w073-227</td><td>0.815</td><td>12.78356</td><td>11.58116</td><td>0.47323</td><td>1.20239</td><td>0.14904</td><td>0.13845</td><td>0.01059</td><td>5:35:07.26975</td><td>-5:22:26.49750</td><td>147.268</td><td>112.4</td><td>0.696</td><td>117.0</td><td>120.5</td><td>1.626</td><td>0.811</td><td>6.462</td><td>3.979</td></tr>\n",
       "<tr><td>84</td><td>w266-558</td><td>0.753</td><td>10.64965</td><td>9.99132</td><td>0.15489</td><td>0.65833</td><td>0.12396</td><td>0.11689</td><td>0.00707</td><td>5:35:26.618</td><td>-5:25:58.29</td><td>218.155</td><td>315.6</td><td>0.775</td><td>330.7</td><td>298.5</td><td>1.88</td><td>1.127</td><td>7.761</td><td>1.506</td></tr>\n",
       "</table><style>table.dataTable {clear: both; width: auto !important; margin: 0 !important;}\n",
       ".dataTables_info, .dataTables_length, .dataTables_filter, .dataTables_paginate{\n",
       "display: inline-block; margin-right: 1em; }\n",
       ".paginate_button { margin-right: 5px; }\n",
       "</style>\n",
       "<script>\n",
       "\n",
       "var astropy_sort_num = function(a, b) {\n",
       "    var a_num = parseFloat(a);\n",
       "    var b_num = parseFloat(b);\n",
       "\n",
       "    if (isNaN(a_num) && isNaN(b_num))\n",
       "        return ((a < b) ? -1 : ((a > b) ? 1 : 0));\n",
       "    else if (!isNaN(a_num) && !isNaN(b_num))\n",
       "        return ((a_num < b_num) ? -1 : ((a_num > b_num) ? 1 : 0));\n",
       "    else\n",
       "        return isNaN(a_num) ? -1 : 1;\n",
       "}\n",
       "\n",
       "require.config({paths: {\n",
       "    datatables: 'https://cdn.datatables.net/1.10.12/js/jquery.dataTables.min'\n",
       "}});\n",
       "require([\"datatables\"], function(){\n",
       "    console.log(\"$('#table140678582450928-319852').dataTable()\");\n",
       "    \n",
       "jQuery.extend( jQuery.fn.dataTableExt.oSort, {\n",
       "    \"optionalnum-asc\": astropy_sort_num,\n",
       "    \"optionalnum-desc\": function (a,b) { return -astropy_sort_num(a, b); }\n",
       "});\n",
       "\n",
       "    $('#table140678582450928-319852').dataTable({\n",
       "        order: [],\n",
       "        pageLength: 50,\n",
       "        lengthMenu: [[10, 25, 50, 100, 500, 1000, -1], [10, 25, 50, 100, 500, 1000, 'All']],\n",
       "        pagingType: \"full_numbers\",\n",
       "        columnDefs: [{targets: [0, 2, 3, 4, 5, 6, 7, 8, 9, 12, 13, 14, 15, 16, 17, 18, 19, 20], type: \"optionalnum\"}]\n",
       "    });\n",
       "});\n",
       "</script>\n"
      ],
      "text/plain": [
       "<IPython.core.display.HTML object>"
      ]
     },
     "execution_count": 13,
     "metadata": {},
     "output_type": "execute_result"
    }
   ],
   "source": [
    "t2.show_in_notebook()"
   ]
  },
  {
   "cell_type": "code",
   "execution_count": 14,
   "metadata": {},
   "outputs": [
    {
     "name": "stderr",
     "output_type": "stream",
     "text": [
      "/Users/will/miniconda3/envs/science/lib/python3.8/site-packages/astropy/table/table.py:3056: FutureWarning: elementwise == comparison failed and returning scalar instead; this will raise an error or perform elementwise comparison in the future.\n",
      "  result = (self.as_array().data == other) & (self.mask == false_mask)\n"
     ]
    },
    {
     "data": {
      "text/plain": [
       "array([False, False, False, False, False, False, False, False, False,\n",
       "       False, False, False, False, False, False, False, False, False,\n",
       "       False, False, False, False, False, False, False, False, False,\n",
       "       False, False, False, False, False, False, False, False, False,\n",
       "       False, False, False, False, False, False, False, False, False,\n",
       "       False, False, False, False, False, False, False, False, False,\n",
       "       False, False, False, False, False, False, False, False, False,\n",
       "       False, False, False, False, False, False, False, False, False,\n",
       "       False, False, False, False, False, False, False, False, False,\n",
       "       False, False, False, False])"
      ]
     },
     "execution_count": 14,
     "metadata": {},
     "output_type": "execute_result"
    }
   ],
   "source": [
    "t2 == tab"
   ]
  },
  {
   "cell_type": "code",
   "execution_count": 15,
   "metadata": {},
   "outputs": [
    {
     "name": "stderr",
     "output_type": "stream",
     "text": [
      "/Users/will/miniconda3/envs/science/lib/python3.8/site-packages/astropy/table/row.py:76: FutureWarning: elementwise == comparison failed and returning scalar instead; this will raise an error or perform elementwise comparison in the future.\n",
      "  return self.as_void() == other\n"
     ]
    },
    {
     "data": {
      "text/plain": [
       "False"
      ]
     },
     "execution_count": 15,
     "metadata": {},
     "output_type": "execute_result"
    }
   ],
   "source": [
    "t2[0] == tab[0]"
   ]
  },
  {
   "cell_type": "code",
   "execution_count": 16,
   "metadata": {},
   "outputs": [
    {
     "data": {
      "text/html": [
       "<i>Row index=0</i>\n",
       "<table id=\"table140678582450928\">\n",
       "<thead><tr><th>Object</th><th>h_old</th><th>Value_Bally</th><th>Value_bg_Bally</th><th>Delta</th><th>Dif_Bally</th><th>Value_Robberto</th><th>Value_bg_Robberto_f656</th><th>Dif_Robberto_f656</th><th>RA</th><th>Dec</th><th>D</th><th>PA_star</th><th>h</th><th>PA_out</th><th>PA_in</th><th>R_out</th><th>R_in</th><th>Rc_out</th><th>Rc_in</th></tr></thead>\n",
       "<thead><tr><th>str8</th><th>float64</th><th>float64</th><th>float64</th><th>float64</th><th>float64</th><th>float64</th><th>float64</th><th>float64</th><th>str13</th><th>str14</th><th>float64</th><th>float64</th><th>float64</th><th>float64</th><th>float64</th><th>float64</th><th>float64</th><th>float64</th><th>float64</th></tr></thead>\n",
       "<tr><td>022-635</td><td>0.354</td><td>2.80442</td><td>2.71902</td><td>0.04816</td><td>0.0854</td><td>0.03372</td><td>0.03274</td><td>0.00098</td><td>5:35:02.200</td><td>-5:26:35.33</td><td>286.472</td><td>47.7</td><td>0.341</td><td>83.2</td><td>77.5</td><td>1.104</td><td>0.75</td><td>4.456</td><td>2.29</td></tr>\n",
       "</table>"
      ],
      "text/plain": [
       "<Row index=0>\n",
       " Object  h_old  Value_Bally Value_bg_Bally  Delta  Dif_Bally Value_Robberto Value_bg_Robberto_f656 Dif_Robberto_f656      RA         Dec        D    PA_star    h     PA_out  PA_in   R_out    R_in   Rc_out  Rc_in \n",
       "  str8  float64   float64      float64     float64  float64     float64            float64              float64         str13       str14    float64 float64 float64 float64 float64 float64 float64 float64 float64\n",
       "------- ------- ----------- -------------- ------- --------- -------------- ---------------------- ----------------- ----------- ----------- ------- ------- ------- ------- ------- ------- ------- ------- -------\n",
       "022-635   0.354     2.80442        2.71902 0.04816    0.0854        0.03372                0.03274           0.00098 5:35:02.200 -5:26:35.33 286.472    47.7   0.341    83.2    77.5   1.104    0.75   4.456    2.29"
      ]
     },
     "execution_count": 16,
     "metadata": {},
     "output_type": "execute_result"
    }
   ],
   "source": [
    "t2[0]"
   ]
  },
  {
   "cell_type": "code",
   "execution_count": 17,
   "metadata": {},
   "outputs": [
    {
     "data": {
      "text/html": [
       "<i>Row index=0</i>\n",
       "<table id=\"table140677902056512\">\n",
       "<thead><tr><th>Object</th><th>h_old</th><th>Value_Bally</th><th>Value_bg_Bally</th><th>Delta</th><th>Dif_Bally</th><th>Value_Robberto</th><th>Value_bg_Robberto_f656</th><th>Dif_Robberto_f656</th><th>RA</th><th>Dec</th><th>D</th><th>PA_star</th><th>h</th><th>PA_out</th><th>PA_in</th><th>R_out</th><th>R_in</th><th>Rc_out</th><th>Rc_in</th></tr></thead>\n",
       "<thead><tr><th>bytes8</th><th>float64</th><th>float64</th><th>float64</th><th>float64</th><th>float64</th><th>float64</th><th>float64</th><th>float64</th><th>bytes13</th><th>bytes14</th><th>float64</th><th>float64</th><th>float64</th><th>float64</th><th>float64</th><th>float64</th><th>float64</th><th>float64</th><th>float64</th></tr></thead>\n",
       "<tr><td>022-635</td><td>0.354</td><td>2.80442</td><td>2.71902</td><td>0.04816</td><td>0.0854</td><td>0.03372</td><td>0.03274</td><td>0.00098</td><td>5:35:02.200</td><td>-5:26:35.33</td><td>286.472</td><td>47.7</td><td>0.341</td><td>83.2</td><td>77.5</td><td>1.104</td><td>0.75</td><td>4.456</td><td>2.29</td></tr>\n",
       "</table>"
      ],
      "text/plain": [
       "<Row index=0>\n",
       " Object  h_old  Value_Bally Value_bg_Bally  Delta  Dif_Bally Value_Robberto Value_bg_Robberto_f656 Dif_Robberto_f656      RA         Dec        D    PA_star    h     PA_out  PA_in   R_out    R_in   Rc_out  Rc_in \n",
       " bytes8 float64   float64      float64     float64  float64     float64            float64              float64        bytes13     bytes14   float64 float64 float64 float64 float64 float64 float64 float64 float64\n",
       "------- ------- ----------- -------------- ------- --------- -------------- ---------------------- ----------------- ----------- ----------- ------- ------- ------- ------- ------- ------- ------- ------- -------\n",
       "022-635   0.354     2.80442        2.71902 0.04816    0.0854        0.03372                0.03274           0.00098 5:35:02.200 -5:26:35.33 286.472    47.7   0.341    83.2    77.5   1.104    0.75   4.456    2.29"
      ]
     },
     "execution_count": 17,
     "metadata": {},
     "output_type": "execute_result"
    }
   ],
   "source": [
    "tab[0]"
   ]
  },
  {
   "cell_type": "markdown",
   "metadata": {},
   "source": [
    "So it looks like `ascii.ecsv` is the best format for saving and loading tabular data.\n",
    "\n",
    "* The other ascii formats are too fragile, especially if there are missing values\n",
    "* FITS Table would work, but has the disadvantage that files are not human-readable, and also the string columns end up being `bytes`, not real strings\n",
    "* Also, it is explicitly called out in the astropy documentation that ECSV is preferred"
   ]
  },
  {
   "cell_type": "code",
   "execution_count": 6,
   "metadata": {},
   "outputs": [],
   "source": [
    "tab = Table.read(datadir / \"arcs-summary-classify.ecsv\", format=\"ascii.ecsv\")"
   ]
  },
  {
   "cell_type": "code",
   "execution_count": 7,
   "metadata": {
    "scrolled": false
   },
   "outputs": [
    {
     "data": {
      "text/html": [
       "<i>Table length=84</i>\n",
       "<table id=\"table140192369024080-152771\" class=\"table-striped table-bordered table-condensed\">\n",
       "<thead><tr><th>idx</th><th>Object</th><th>h_old</th><th>Value_Bally</th><th>Value_bg_Bally</th><th>Delta</th><th>Dif_Bally</th><th>Value_Robberto</th><th>Value_bg_Robberto_f656</th><th>Dif_Robberto_f656</th><th>RA</th><th>Dec</th><th>D</th><th>PA_star</th><th>h</th><th>PA_out</th><th>PA_in</th><th>R_out</th><th>R_in</th><th>Rc_out</th><th>Rc_in</th><th>Group</th></tr></thead>\n",
       "<tr><td>0</td><td>022-635</td><td>0.354</td><td>2.80442</td><td>2.71902</td><td>0.04816</td><td>0.0854</td><td>0.03372</td><td>0.03274</td><td>0.00098</td><td>5:35:02.200</td><td>-5:26:35.33</td><td>286.472</td><td>47.7</td><td>0.341</td><td>83.2</td><td>77.5</td><td>1.104</td><td>0.75</td><td>4.456</td><td>2.29</td><td>W</td></tr>\n",
       "<tr><td>1</td><td>041-637</td><td>0.749</td><td>2.96955</td><td>2.92683</td><td>0.10903</td><td>0.04272</td><td>--</td><td>--</td><td>--</td><td>5:35:04.060</td><td>-5:26:37.06</td><td>267.84</td><td>43.4</td><td>0.766</td><td>4.2</td><td>15.5</td><td>1.937</td><td>1.189</td><td>4.395</td><td>3.232</td><td>W</td></tr>\n",
       "<tr><td>2</td><td>042-628</td><td>1.309</td><td>3.22114</td><td>3.0331</td><td>0.08318</td><td>0.18804</td><td>--</td><td>--</td><td>--</td><td>5:35:04.19875</td><td>-5:26:27.59750</td><td>259.592</td><td>44.5</td><td>1.339</td><td>61.6</td><td>56.1</td><td>3.069</td><td>1.76</td><td>6.901</td><td>3.606</td><td>W</td></tr>\n",
       "<tr><td>3</td><td>049-143</td><td>0.549</td><td>7.95741</td><td>7.8166</td><td>0.21904</td><td>0.14081</td><td>--</td><td>--</td><td>--</td><td>5:35:04.945</td><td>-5:21:42.92</td><td>197.821</td><td>120.2</td><td>0.56</td><td>103.1</td><td>139.0</td><td>1.173</td><td>0.625</td><td>4.178</td><td>0.662</td><td>NW</td></tr>\n",
       "<tr><td>4</td><td>051-024</td><td>0.292</td><td>6.38142</td><td>6.3423</td><td>0.15466</td><td>0.03913</td><td>--</td><td>--</td><td>--</td><td>5:35:05.131</td><td>-5:20:24.32</td><td>245.01</td><td>136.7</td><td>0.269</td><td>136.5</td><td>123.6</td><td>1.186</td><td>0.895</td><td>2.287</td><td>1.663</td><td>NW</td></tr>\n",
       "<tr><td>5</td><td>065-502</td><td>0.93</td><td>9.60864</td><td>9.2402</td><td>0.692</td><td>0.36845</td><td>0.12369</td><td>0.11919</td><td>0.0045</td><td>5:35:06.53975</td><td>-5:25:01.50750</td><td>177.288</td><td>56.1</td><td>1.214</td><td>90.5</td><td>104.7</td><td>1.422</td><td>0.491</td><td>7.737</td><td>2.31</td><td>*P</td></tr>\n",
       "<tr><td>6</td><td>066-3251</td><td>0.0</td><td>0.9432</td><td>0.91176</td><td>0.03996</td><td>0.03144</td><td>--</td><td>--</td><td>--</td><td>5:35:06.56919</td><td>-5:32:51.43000</td><td>587.491</td><td>14.5</td><td>0.0</td><td>300.1</td><td>--</td><td>1.068</td><td>--</td><td>1.588</td><td>--</td><td>S</td></tr>\n",
       "<tr><td>7</td><td>066-652</td><td>--</td><td>--</td><td>--</td><td>--</td><td>--</td><td>--</td><td>--</td><td>--</td><td>5:35:06.588</td><td>-5:26:52.38</td><td>255.852</td><td>34.9</td><td>0.102</td><td>316.8</td><td>341.9</td><td>0.028</td><td>-0.075</td><td>0.575</td><td>0.6</td><td>*I</td></tr>\n",
       "<tr><td>8</td><td>072-134</td><td>2.429</td><td>12.93193</td><td>12.63087</td><td>0.31066</td><td>0.30106</td><td>--</td><td>--</td><td>--</td><td>5:35:07.20375</td><td>-5:21:34.29500</td><td>174.737</td><td>128.3</td><td>2.419</td><td>89.7</td><td>94.5</td><td>4.69</td><td>2.261</td><td>17.626</td><td>7.286</td><td>NW</td></tr>\n",
       "<tr><td>9</td><td>074-229</td><td>0.566</td><td>12.1149</td><td>11.54646</td><td>0.3202</td><td>0.56844</td><td>--</td><td>--</td><td>--</td><td>5:35:07.384</td><td>-5:22:28.92</td><td>144.777</td><td>111.7</td><td>0.596</td><td>120.3</td><td>185.7</td><td>1.357</td><td>0.79</td><td>1.601</td><td>0.748</td><td>NW</td></tr>\n",
       "<tr><td>10</td><td>083-435</td><td>0.703</td><td>12.40549</td><td>12.32781</td><td>0.17918</td><td>0.07768</td><td>0.17284</td><td>0.17164</td><td>0.00121</td><td>5:35:08.29275</td><td>-5:24:34.85750</td><td>140.892</td><td>59.1</td><td>0.579</td><td>84.0</td><td>40.5</td><td>1.247</td><td>0.544</td><td>2.005</td><td>0.664</td><td>*P</td></tr>\n",
       "<tr><td>11</td><td>101-233</td><td>0.346</td><td>28.11431</td><td>28.40083</td><td>2.8809</td><td>-0.28652</td><td>0.33987</td><td>0.33494</td><td>0.00493</td><td>5:35:10.133</td><td>-5:22:32.60</td><td>105.936</td><td>118.1</td><td>0.419</td><td>131.4</td><td>136.6</td><td>2.458</td><td>2.111</td><td>4.356</td><td>4.206</td><td>NW</td></tr>\n",
       "<tr><td>12</td><td>102-157</td><td>0.394</td><td>17.19631</td><td>16.79779</td><td>0.57697</td><td>0.39851</td><td>0.21035</td><td>0.20436</td><td>0.006</td><td>5:35:10.25075</td><td>-5:21:57.11750</td><td>125.297</td><td>133.0</td><td>0.45</td><td>118.5</td><td>116.6</td><td>0.796</td><td>0.402</td><td>5.03</td><td>3.542</td><td>NW</td></tr>\n",
       "<tr><td>13</td><td>106-245</td><td>0.4</td><td>34.09301</td><td>31.70072</td><td>0.40087</td><td>2.39229</td><td>0.42202</td><td>0.40328</td><td>0.01874</td><td>5:35:10.576</td><td>-5:22:44.69</td><td>94.703</td><td>113.5</td><td>0.38</td><td>122.7</td><td>99.0</td><td>0.627</td><td>0.228</td><td>2.476</td><td>1.121</td><td>NW</td></tr>\n",
       "<tr><td>14</td><td>109-246</td><td>0.626</td><td>39.05883</td><td>35.3827</td><td>1.62604</td><td>3.67613</td><td>0.49852</td><td>0.45784</td><td>0.04068</td><td>5:35:10.89575</td><td>-5:22:46.31750</td><td>89.677</td><td>113.8</td><td>0.704</td><td>112.9</td><td>119.5</td><td>1.948</td><td>1.322</td><td>10.638</td><td>7.325</td><td>NW</td></tr>\n",
       "<tr><td>15</td><td>116-3101</td><td>0.449</td><td>0.86913</td><td>0.83316</td><td>0.0204</td><td>0.03597</td><td>--</td><td>--</td><td>--</td><td>5:35:11.65419</td><td>-5:31:01.03000</td><td>463.921</td><td>8.8</td><td>0.44</td><td>24.0</td><td>7.9</td><td>1.452</td><td>1.004</td><td>2.695</td><td>1.574</td><td>S</td></tr>\n",
       "<tr><td>16</td><td>117-421</td><td>1.292</td><td>--</td><td>--</td><td>--</td><td>--</td><td>--</td><td>--</td><td>--</td><td>5:35:11.650</td><td>-5:24:21.41</td><td>92.067</td><td>50.2</td><td>1.374</td><td>99.1</td><td>96.7</td><td>2.001</td><td>0.71</td><td>6.946</td><td>2.774</td><td>*P</td></tr>\n",
       "<tr><td>17</td><td>119-3155</td><td>1.065</td><td>0.79579</td><td>0.77475</td><td>0.0197</td><td>0.02103</td><td>0.00906</td><td>0.00877</td><td>0.00029</td><td>5:35:11.926</td><td>-5:31:53.30</td><td>515.101</td><td>7.4</td><td>1.002</td><td>33.3</td><td>35.3</td><td>3.015</td><td>1.951</td><td>6.727</td><td>5.11</td><td>S</td></tr>\n",
       "<tr><td>18</td><td>121-434</td><td>0.412</td><td>19.46307</td><td>18.82996</td><td>0.6803</td><td>0.6331</td><td>0.0</td><td>0.0</td><td>0.0</td><td>5:35:12.12175</td><td>-5:24:33.75750</td><td>95.578</td><td>41.8</td><td>0.39</td><td>65.4</td><td>66.2</td><td>0.757</td><td>0.344</td><td>1.413</td><td>0.688</td><td>*P</td></tr>\n",
       "<tr><td>19</td><td>124-131</td><td>--</td><td>--</td><td>--</td><td>--</td><td>--</td><td>--</td><td>--</td><td>--</td><td>5:35:12.383</td><td>-5:21:31.41</td><td>126.201</td><td>151.7</td><td>1.733</td><td>134.9</td><td>156.0</td><td>4.477</td><td>2.744</td><td>5.95</td><td>10.415</td><td>NW</td></tr>\n",
       "<tr><td>20</td><td>131-046</td><td>2.548</td><td>15.00281</td><td>15.3283</td><td>2.92449</td><td>-0.32549</td><td>--</td><td>--</td><td>--</td><td>5:35:13.05537</td><td>-5:20:45.78625</td><td>164.46</td><td>162.4</td><td>2.168</td><td>140.3</td><td>144.2</td><td>3.546</td><td>0.999</td><td>7.325</td><td>5.645</td><td>*P</td></tr>\n",
       "<tr><td>21</td><td>132-053</td><td>0.401</td><td>18.36519</td><td>18.21818</td><td>0.3856</td><td>0.14701</td><td>0.22867</td><td>0.2285</td><td>0.00017</td><td>5:35:13.202</td><td>-5:20:52.59</td><td>157.312</td><td>162.4</td><td>0.392</td><td>153.9</td><td>167.0</td><td>0.718</td><td>0.317</td><td>1.803</td><td>0.676</td><td>*P</td></tr>\n",
       "<tr><td>22</td><td>136-3057</td><td>5.226</td><td>0.855</td><td>0.81089</td><td>0.03269</td><td>0.04411</td><td>--</td><td>--</td><td>--</td><td>5:35:13.60719</td><td>-5:30:57.56000</td><td>456.925</td><td>5.2</td><td>4.51</td><td>10.9</td><td>4.4</td><td>10.133</td><td>4.907</td><td>18.706</td><td>10.203</td><td>S</td></tr>\n",
       "<tr><td>23</td><td>138-3024</td><td>1.148</td><td>0.88077</td><td>0.86639</td><td>0.0302</td><td>0.01438</td><td>0.00656</td><td>0.00646</td><td>0.0001</td><td>5:35:13.79919</td><td>-5:30:24.40000</td><td>423.642</td><td>5.2</td><td>1.107</td><td>22.2</td><td>17.4</td><td>3.893</td><td>2.744</td><td>8.539</td><td>4.787</td><td>S</td></tr>\n",
       "<tr><td>24</td><td>142-301</td><td>0.6</td><td>73.17567</td><td>64.88542</td><td>3.75324</td><td>8.29025</td><td>0.93401</td><td>0.84074</td><td>0.09327</td><td>5:35:14.158</td><td>-5:23:01.00</td><td>39.672</td><td>122.9</td><td>0.6</td><td>91.5</td><td>98.6</td><td>2.422</td><td>1.822</td><td>6.062</td><td>4.547</td><td>N</td></tr>\n",
       "<tr><td>25</td><td>154-225</td><td>0.651</td><td>43.59189</td><td>40.77802</td><td>3.25019</td><td>2.81387</td><td>0.52037</td><td>0.48765</td><td>0.03272</td><td>5:35:15.367</td><td>-5:22:25.31</td><td>59.219</td><td>165.1</td><td>0.584</td><td>158.0</td><td>193.1</td><td>1.287</td><td>0.636</td><td>3.421</td><td>1.051</td><td>N</td></tr>\n",
       "<tr><td>26</td><td>154-240</td><td>0.0</td><td>54.42364</td><td>54.05792</td><td>12.38136</td><td>0.36571</td><td>0.67024</td><td>0.68345</td><td>-0.01321</td><td>5:35:15.383</td><td>-5:22:39.79</td><td>45.303</td><td>160.6</td><td>0.0</td><td>--</td><td>202.3</td><td>--</td><td>1.72</td><td>--</td><td>2.3</td><td>N</td></tr>\n",
       "<tr><td>27</td><td>158-323</td><td>0.435</td><td>72.05925</td><td>66.38213</td><td>7.76588</td><td>5.67712</td><td>0.88137</td><td>0.81426</td><td>0.06711</td><td>5:35:15.831</td><td>-5:23:22.51</td><td>8.338</td><td>90.1</td><td>0.206</td><td>114.8</td><td>120.0</td><td>1.849</td><td>1.643</td><td>2.92</td><td>2.354</td><td>LV</td></tr>\n",
       "<tr><td>28</td><td>159-221</td><td>0.0</td><td>44.96685</td><td>45.29734</td><td>2.64143</td><td>-0.33049</td><td>0.49168</td><td>0.49655</td><td>-0.00488</td><td>5:35:15.934</td><td>-5:22:21.04</td><td>61.862</td><td>173.7</td><td>0.0</td><td>--</td><td>215.4</td><td>--</td><td>0.834</td><td>--</td><td>1.582</td><td>N</td></tr>\n",
       "<tr><td>29</td><td>160-350</td><td>--</td><td>--</td><td>--</td><td>--</td><td>--</td><td>--</td><td>--</td><td>--</td><td>5:35:15.958</td><td>-5:23:49.68</td><td>27.906</td><td>13.3</td><td>0.067</td><td>226.2</td><td>224.3</td><td>0.109</td><td>0.042</td><td>0.598</td><td>0.294</td><td>*I</td></tr>\n",
       "<tr><td>30</td><td>161-324</td><td>0.36</td><td>63.38539</td><td>60.03492</td><td>2.05702</td><td>3.35047</td><td>0.76946</td><td>0.72718</td><td>0.04228</td><td>5:35:16.056</td><td>-5:23:24.33</td><td>5.295</td><td>70.1</td><td>0.255</td><td>70.7</td><td>76.6</td><td>1.159</td><td>0.904</td><td>3.013</td><td>2.027</td><td>LV</td></tr>\n",
       "<tr><td>31</td><td>162-456</td><td>--</td><td>--</td><td>--</td><td>--</td><td>--</td><td>--</td><td>--</td><td>--</td><td>5:35:16.182</td><td>-5:24:56.39</td><td>93.914</td><td>1.9</td><td>0.086</td><td>28.8</td><td>49.2</td><td>0.294</td><td>0.208</td><td>0.853</td><td>0.785</td><td>*I</td></tr>\n",
       "<tr><td>32</td><td>163-222</td><td>0.43</td><td>44.14778</td><td>46.0239</td><td>1.41854</td><td>-1.87612</td><td>0.49505</td><td>0.5153</td><td>-0.02025</td><td>5:35:16.303</td><td>-5:22:21.47</td><td>61.071</td><td>178.8</td><td>0.356</td><td>198.9</td><td>180.1</td><td>1.538</td><td>1.108</td><td>1.805</td><td>1.549</td><td>N</td></tr>\n",
       "<tr><td>33</td><td>163-317</td><td>0.277</td><td>69.13676</td><td>68.48918</td><td>4.21819</td><td>0.64758</td><td>0.89688</td><td>0.89082</td><td>0.00605</td><td>5:35:16.282</td><td>-5:23:16.63</td><td>6.111</td><td>164.8</td><td>0.395</td><td>148.6</td><td>145.5</td><td>2.323</td><td>1.928</td><td>4.904</td><td>4.437</td><td>LV</td></tr>\n",
       "<tr><td>34</td><td>165-235</td><td>0.551</td><td>53.12876</td><td>50.26978</td><td>4.69804</td><td>2.85897</td><td>0.64141</td><td>0.631</td><td>0.01041</td><td>5:35:16.475</td><td>-5:22:35.22</td><td>47.325</td><td>181.5</td><td>0.472</td><td>197.5</td><td>193.2</td><td>1.776</td><td>1.225</td><td>3.842</td><td>3.437</td><td>N</td></tr>\n",
       "<tr><td>35</td><td>166-316</td><td>0.203</td><td>72.15591</td><td>71.47672</td><td>3.25257</td><td>0.67918</td><td>0.92942</td><td>0.93347</td><td>-0.00405</td><td>5:35:16.607</td><td>-5:23:16.16</td><td>7.149</td><td>207.0</td><td>0.279</td><td>181.4</td><td>160.5</td><td>0.694</td><td>0.415</td><td>1.191</td><td>0.851</td><td>LV</td></tr>\n",
       "<tr><td>36</td><td>167-317</td><td>0.514</td><td>167.94201</td><td>66.33839</td><td>19.07337</td><td>101.60362</td><td>0.87149</td><td>0.86437</td><td>0.00711</td><td>5:35:16.739</td><td>-5:23:16.50</td><td>7.974</td><td>220.9</td><td>0.706</td><td>178.1</td><td>165.4</td><td>1.96</td><td>1.254</td><td>3.286</td><td>2.052</td><td>LV</td></tr>\n",
       "<tr><td>37</td><td>168-326</td><td>0.21</td><td>72.67345</td><td>64.17395</td><td>3.0276</td><td>8.4995</td><td>0.95333</td><td>0.84818</td><td>0.10514</td><td>5:35:16.839</td><td>-5:23:26.32</td><td>7.712</td><td>299.5</td><td>0.196</td><td>314.5</td><td>328.1</td><td>0.947</td><td>0.737</td><td>3.044</td><td>3.011</td><td>LV</td></tr>\n",
       "<tr><td>38</td><td>168-326N</td><td>0.119</td><td>187.52268</td><td>186.47194</td><td>3.57901</td><td>1.05074</td><td>1.96906</td><td>1.83933</td><td>0.12973</td><td>5:35:16.835</td><td>-5:23:25.97</td><td>7.493</td><td>297.4</td><td>0.111</td><td>137.0</td><td>142.2</td><td>0.229</td><td>0.118</td><td>1.044</td><td>0.79</td><td>*I</td></tr>\n",
       "<tr><td>39</td><td>168-328</td><td>0.235</td><td>53.39705</td><td>50.46761</td><td>3.71374</td><td>2.92944</td><td>1.02871</td><td>0.87565</td><td>0.15306</td><td>5:35:16.757</td><td>-5:23:28.05</td><td>7.787</td><td>315.2</td><td>0.272</td><td>345.3</td><td>353.0</td><td>1.062</td><td>0.789</td><td>1.315</td><td>0.799</td><td>LV</td></tr>\n",
       "<tr><td>40</td><td>169-338</td><td>0.51</td><td>45.98507</td><td>45.6046</td><td>1.26636</td><td>0.38047</td><td>0.59301</td><td>0.59464</td><td>-0.00164</td><td>5:35:16.880</td><td>-5:23:38.02</td><td>17.138</td><td>334.7</td><td>0.351</td><td>345.9</td><td>6.4</td><td>1.031</td><td>0.68</td><td>2.037</td><td>0.719</td><td>SE</td></tr>\n",
       "<tr><td>41</td><td>170-249</td><td>0.84</td><td>52.84594</td><td>50.16077</td><td>8.01456</td><td>2.68518</td><td>0.70104</td><td>0.66688</td><td>0.03415</td><td>5:35:16.967</td><td>-5:22:48.44</td><td>35.162</td><td>194.2</td><td>0.777</td><td>173.4</td><td>193.3</td><td>3.225</td><td>2.448</td><td>6.92</td><td>4.755</td><td>N</td></tr>\n",
       "<tr><td>42</td><td>173-236</td><td>0.579</td><td>71.0402</td><td>58.41909</td><td>33.9966</td><td>12.62112</td><td>0.46573</td><td>0.46083</td><td>0.0049</td><td>5:35:17.352</td><td>-5:22:35.73</td><td>48.956</td><td>197.1</td><td>0.753</td><td>255.3</td><td>275.5</td><td>2.28</td><td>1.527</td><td>1.364</td><td>1.935</td><td>*P</td></tr>\n",
       "<tr><td>43</td><td>173-342</td><td>0.336</td><td>38.96898</td><td>35.82955</td><td>1.73145</td><td>3.13943</td><td>0.52909</td><td>0.48668</td><td>0.04241</td><td>5:35:17.324</td><td>-5:23:41.39</td><td>23.465</td><td>323.5</td><td>0.462</td><td>82.2</td><td>76.1</td><td>1.29</td><td>0.828</td><td>3.312</td><td>1.719</td><td>*I</td></tr>\n",
       "<tr><td>44</td><td>175-321</td><td>0.647</td><td>64.97197</td><td>61.57776</td><td>6.88164</td><td>3.39421</td><td>0.90874</td><td>0.84792</td><td>0.06081</td><td>5:35:17.458</td><td>-5:23:21.06</td><td>16.026</td><td>264.7</td><td>0.598</td><td>298.7</td><td>324.5</td><td>2.031</td><td>1.384</td><td>2.478</td><td>2.626</td><td>*I</td></tr>\n",
       "<tr><td>45</td><td>177-341</td><td>0.484</td><td>34.57974</td><td>32.28169</td><td>3.52831</td><td>2.29805</td><td>0.46255</td><td>0.43383</td><td>0.02873</td><td>5:35:17.667</td><td>-5:23:40.98</td><td>26.543</td><td>314.0</td><td>0.749</td><td>317.0</td><td>293.7</td><td>3.813</td><td>3.064</td><td>4.247</td><td>3.867</td><td>SE</td></tr>\n",
       "<tr><td>46</td><td>178-258</td><td>0.556</td><td>47.28008</td><td>45.6936</td><td>3.97348</td><td>1.58649</td><td>0.62452</td><td>0.61229</td><td>0.01222</td><td>5:35:17.819</td><td>-5:22:58.06</td><td>32.473</td><td>221.1</td><td>0.524</td><td>218.7</td><td>210.3</td><td>1.479</td><td>0.923</td><td>3.944</td><td>3.43</td><td>N</td></tr>\n",
       "<tr><td>47</td><td>180-331</td><td>0.348</td><td>33.66978</td><td>29.37365</td><td>0.98675</td><td>4.29613</td><td>0.45206</td><td>0.39826</td><td>0.0538</td><td>5:35:18.033</td><td>-5:23:30.82</td><td>25.909</td><td>288.7</td><td>0.326</td><td>280.8</td><td>282.0</td><td>1.44</td><td>1.114</td><td>2.361</td><td>1.772</td><td>SE</td></tr>\n",
       "<tr><td>48</td><td>189-329</td><td>0.859</td><td>47.19997</td><td>38.35084</td><td>2.75772</td><td>8.84913</td><td>0.63799</td><td>0.52809</td><td>0.1099</td><td>5:35:18.868</td><td>-5:23:28.88</td><td>37.556</td><td>279.7</td><td>0.856</td><td>296.4</td><td>264.0</td><td>1.397</td><td>0.538</td><td>6.318</td><td>0.833</td><td>SE</td></tr>\n",
       "<tr><td>49</td><td>203-3039</td><td>3.623</td><td>1.00679</td><td>0.97275</td><td>0.03439</td><td>0.03404</td><td>--</td><td>--</td><td>--</td><td>5:35:20.289</td><td>-5:30:39.38</td><td>440.716</td><td>352.4</td><td>3.06</td><td>359.4</td><td>8.2</td><td>5.384</td><td>1.761</td><td>17.897</td><td>14.501</td><td>S</td></tr>\n",
       "<tr><td>50</td><td>204-330</td><td>0.193</td><td>25.40776</td><td>23.73507</td><td>7.9371</td><td>1.67269</td><td>0.32456</td><td>0.31862</td><td>0.00594</td><td>5:35:20.402</td><td>-5:23:30.01</td><td>60.389</td><td>277.1</td><td>0.221</td><td>112.4</td><td>119.0</td><td>0.333</td><td>0.112</td><td>1.336</td><td>1.281</td><td>*I</td></tr>\n",
       "<tr><td>51</td><td>206-043</td><td>0.492</td><td>6.98491</td><td>6.86317</td><td>0.21298</td><td>0.12174</td><td>0.07606</td><td>0.07532</td><td>0.00074</td><td>5:35:20.561</td><td>-5:20:43.11</td><td>171.159</td><td>201.3</td><td>0.443</td><td>176.1</td><td>182.7</td><td>1.609</td><td>1.117</td><td>2.186</td><td>2.077</td><td>NW</td></tr>\n",
       "<tr><td>52</td><td>212-400</td><td>0.231</td><td>23.35838</td><td>23.35675</td><td>0.90075</td><td>0.00163</td><td>0.33293</td><td>0.33175</td><td>0.00117</td><td>5:35:21.181</td><td>-5:24:00.46</td><td>80.988</td><td>297.9</td><td>0.213</td><td>331.2</td><td>335.5</td><td>1.075</td><td>0.844</td><td>0.831</td><td>0.518</td><td>*P</td></tr>\n",
       "<tr><td>53</td><td>261-3018</td><td>2.472</td><td>1.2977</td><td>1.23048</td><td>0.04793</td><td>0.06722</td><td>--</td><td>--</td><td>--</td><td>5:35:26.16875</td><td>-5:30:18.01750</td><td>440.4</td><td>340.6</td><td>2.591</td><td>1.7</td><td>357.1</td><td>4.986</td><td>2.514</td><td>33.288</td><td>3.586</td><td>S</td></tr>\n",
       "<tr><td>54</td><td>305-811</td><td>0.83</td><td>3.87871</td><td>3.82292</td><td>0.07767</td><td>0.05579</td><td>0.04166</td><td>0.0413</td><td>0.00036</td><td>5:35:30.43675</td><td>-5:28:11.23750</td><td>356.86</td><td>324.0</td><td>0.8</td><td>358.6</td><td>349.7</td><td>1.721</td><td>0.891</td><td>4.924</td><td>3.993</td><td>S</td></tr>\n",
       "<tr><td>55</td><td>308-3036</td><td>1.118</td><td>1.26723</td><td>1.23217</td><td>0.03</td><td>0.03507</td><td>--</td><td>--</td><td>--</td><td>5:35:30.79475</td><td>-5:30:36.25250</td><td>484.126</td><td>333.6</td><td>1.125</td><td>359.9</td><td>329.8</td><td>2.557</td><td>1.438</td><td>4.497</td><td>1.782</td><td>S</td></tr>\n",
       "<tr><td>56</td><td>344-3020</td><td>0.986</td><td>1.49703</td><td>1.46875</td><td>0.0295</td><td>0.02828</td><td>--</td><td>--</td><td>--</td><td>5:35:34.36275</td><td>-5:30:20.56250</td><td>496.758</td><td>327.3</td><td>0.947</td><td>334.9</td><td>325.5</td><td>1.659</td><td>0.673</td><td>3.155</td><td>4.423</td><td>S</td></tr>\n",
       "<tr><td>57</td><td>362-3137</td><td>1.549</td><td>0.85401</td><td>0.81872</td><td>0.02242</td><td>0.0353</td><td>0.0086</td><td>0.0082</td><td>0.0004</td><td>5:35:36.34775</td><td>-5:31:37.75250</td><td>577.964</td><td>329.0</td><td>1.465</td><td>6.4</td><td>267.8</td><td>3.121</td><td>1.572</td><td>4.245</td><td>2.222</td><td>S</td></tr>\n",
       "<tr><td>58</td><td>4285-458</td><td>--</td><td>--</td><td>--</td><td>--</td><td>--</td><td>--</td><td>--</td><td>--</td><td>5:34:28.520</td><td>-5:24:57.88</td><td>721.182</td><td>82.4</td><td>0.0</td><td>87.0</td><td>--</td><td>1.913</td><td>--</td><td>4.344</td><td>--</td><td>W</td></tr>\n",
       "<tr><td>59</td><td>4417-653</td><td>0.471</td><td>--</td><td>--</td><td>--</td><td>--</td><td>--</td><td>--</td><td>--</td><td>5:34:41.699</td><td>-5:26:52.92</td><td>559.124</td><td>67.9</td><td>0.452</td><td>57.3</td><td>49.8</td><td>1.194</td><td>0.723</td><td>2.897</td><td>1.673</td><td>W</td></tr>\n",
       "<tr><td>60</td><td>4468-605</td><td>1.138</td><td>1.46605</td><td>1.44362</td><td>0.02834</td><td>0.02244</td><td>0.01577</td><td>0.01566</td><td>0.00011</td><td>5:34:46.75775</td><td>-5:26:04.81750</td><td>471.3</td><td>69.9</td><td>1.199</td><td>54.2</td><td>59.6</td><td>2.469</td><td>1.331</td><td>7.109</td><td>2.223</td><td>W</td></tr>\n",
       "<tr><td>61</td><td>4491-627</td><td>0.827</td><td>--</td><td>--</td><td>--</td><td>--</td><td>--</td><td>--</td><td>--</td><td>5:34:49.066</td><td>-5:26:26.51</td><td>447.584</td><td>65.7</td><td>0.79</td><td>72.3</td><td>76.4</td><td>2.017</td><td>1.189</td><td>4.17</td><td>2.446</td><td>W</td></tr>\n",
       "<tr><td>62</td><td>4505-336</td><td>0.689</td><td>--</td><td>--</td><td>--</td><td>--</td><td>--</td><td>--</td><td>--</td><td>5:34:50.492</td><td>-5:23:35.28</td><td>386.952</td><td>88.1</td><td>0.661</td><td>99.8</td><td>99.5</td><td>1.622</td><td>0.932</td><td>3.493</td><td>1.975</td><td>W</td></tr>\n",
       "<tr><td>63</td><td>4520-419</td><td>0.313</td><td>--</td><td>--</td><td>--</td><td>--</td><td>--</td><td>--</td><td>--</td><td>5:34:52.008</td><td>-5:24:18.73</td><td>368.411</td><td>81.2</td><td>0.32</td><td>84.3</td><td>85.2</td><td>1.387</td><td>1.074</td><td>2.921</td><td>2.296</td><td>W</td></tr>\n",
       "<tr><td>64</td><td>4531-628</td><td>0.327</td><td>--</td><td>--</td><td>--</td><td>--</td><td>--</td><td>--</td><td>--</td><td>5:34:53.072</td><td>-5:26:27.56</td><td>394.309</td><td>62.0</td><td>0.325</td><td>104.0</td><td>89.0</td><td>0.792</td><td>0.464</td><td>1.524</td><td>0.93</td><td>W</td></tr>\n",
       "<tr><td>65</td><td>4550-659</td><td>0.732</td><td>--</td><td>--</td><td>--</td><td>--</td><td>--</td><td>--</td><td>--</td><td>5:34:55.013</td><td>-5:26:58.79</td><td>385.572</td><td>55.9</td><td>0.448</td><td>68.1</td><td>71.8</td><td>1.608</td><td>0.876</td><td>3.817</td><td>2.231</td><td>W</td></tr>\n",
       "<tr><td>66</td><td>4578-251</td><td>0.659</td><td>3.00165</td><td>2.93275</td><td>0.06126</td><td>0.06891</td><td>0.03702</td><td>0.03619</td><td>0.00082</td><td>5:34:57.79275</td><td>-5:22:51.09500</td><td>279.493</td><td>96.5</td><td>0.533</td><td>81.2</td><td>125.0</td><td>1.846</td><td>1.188</td><td>3.52</td><td>2.074</td><td>W</td></tr>\n",
       "<tr><td>67</td><td>4582-635</td><td>0.424</td><td>2.68983</td><td>2.6366</td><td>0.12135</td><td>0.05323</td><td>--</td><td>--</td><td>--</td><td>5:34:58.16675</td><td>-5:26:35.12750</td><td>333.372</td><td>54.7</td><td>0.455</td><td>65.7</td><td>50.5</td><td>1.106</td><td>0.682</td><td>2.931</td><td>2.056</td><td>W</td></tr>\n",
       "<tr><td>68</td><td>LL1</td><td>1.153</td><td>10.82417</td><td>7.83614</td><td>0.63168</td><td>2.98803</td><td>0.13365</td><td>0.10267</td><td>0.03098</td><td>5:35:05.63675</td><td>-5:25:19.44750</td><td>198.626</td><td>53.9</td><td>1.128</td><td>84.4</td><td>78.1</td><td>3.057</td><td>1.904</td><td>8.721</td><td>7.132</td><td>W</td></tr>\n",
       "<tr><td>69</td><td>LL2</td><td>1.961</td><td>1.98162</td><td>1.64726</td><td>0.06471</td><td>0.33436</td><td>--</td><td>--</td><td>--</td><td>5:34:40.860</td><td>-5:22:42.20</td><td>532.124</td><td>94.3</td><td>1.133</td><td>97.6</td><td>89.5</td><td>4.035</td><td>2.074</td><td>27.93</td><td>13.844</td><td>W</td></tr>\n",
       "<tr><td>70</td><td>LL3</td><td>1.835</td><td>1.32518</td><td>1.27645</td><td>0.0648</td><td>0.04874</td><td>--</td><td>--</td><td>--</td><td>5:34:40.807</td><td>-5:26:38.54</td><td>566.331</td><td>69.8</td><td>1.83</td><td>89.2</td><td>99.6</td><td>3.119</td><td>1.284</td><td>6.544</td><td>3.085</td><td>W</td></tr>\n",
       "<tr><td>71</td><td>LL4</td><td>0.993</td><td>0.93622</td><td>0.88541</td><td>0.03252</td><td>0.05081</td><td>0.01044</td><td>0.00999</td><td>0.00045</td><td>5:34:42.719</td><td>-5:28:37.20</td><td>593.107</td><td>58.0</td><td>0.992</td><td>46.7</td><td>40.3</td><td>2.415</td><td>1.422</td><td>11.787</td><td>4.952</td><td>W</td></tr>\n",
       "<tr><td>72</td><td>LL5</td><td>1.506</td><td>3.83091</td><td>3.62858</td><td>0.07106</td><td>0.20232</td><td>0.04135</td><td>0.03961</td><td>0.00173</td><td>5:35:31.39775</td><td>-5:28:16.35750</td><td>369.536</td><td>322.7</td><td>1.487</td><td>339.7</td><td>339.7</td><td>2.963</td><td>1.456</td><td>11.577</td><td>3.517</td><td>S</td></tr>\n",
       "<tr><td>73</td><td>LL6</td><td>2.002</td><td>1.60634</td><td>1.54694</td><td>0.02763</td><td>0.0594</td><td>--</td><td>--</td><td>--</td><td>5:35:32.86575</td><td>-5:30:21.45250</td><td>485.816</td><td>329.6</td><td>2.049</td><td>7.6</td><td>18.0</td><td>3.628</td><td>1.626</td><td>29.899</td><td>14.201</td><td>S</td></tr>\n",
       "<tr><td>74</td><td>LL7</td><td>1.466</td><td>--</td><td>--</td><td>--</td><td>--</td><td>0.00615</td><td>0.0058</td><td>0.00035</td><td>5:35:35.126</td><td>-5:33:49.16</td><td>686.232</td><td>335.9</td><td>1.46</td><td>359.2</td><td>3.8</td><td>6.998</td><td>5.533</td><td>17.958</td><td>10.306</td><td>S</td></tr>\n",
       "<tr><td>75</td><td>w000-400</td><td>0.67</td><td>3.28544</td><td>3.16564</td><td>0.06684</td><td>0.1198</td><td>--</td><td>--</td><td>--</td><td>5:34:59.56575</td><td>-5:24:00.14500</td><td>254.035</td><td>81.5</td><td>0.675</td><td>71.9</td><td>73.4</td><td>1.465</td><td>0.795</td><td>4.369</td><td>2.432</td><td>W</td></tr>\n",
       "<tr><td>76</td><td>w005-514</td><td>0.501</td><td>4.20737</td><td>3.62744</td><td>0.05999</td><td>0.57994</td><td>--</td><td>--</td><td>--</td><td>5:35:00.471</td><td>-5:25:14.21</td><td>262.637</td><td>64.8</td><td>0.424</td><td>91.0</td><td>56.9</td><td>1.672</td><td>1.171</td><td>2.239</td><td>2.213</td><td>W</td></tr>\n",
       "<tr><td>77</td><td>w012-407</td><td>1.336</td><td>3.80317</td><td>3.6344</td><td>0.07637</td><td>0.16877</td><td>0.05073</td><td>0.04863</td><td>0.00211</td><td>5:35:01.17375</td><td>-5:24:06.67750</td><td>231.47</td><td>79.0</td><td>1.234</td><td>68.3</td><td>69.7</td><td>2.289</td><td>0.953</td><td>6.743</td><td>4.264</td><td>W</td></tr>\n",
       "<tr><td>78</td><td>w014-414</td><td>0.838</td><td>3.58592</td><td>3.42498</td><td>0.06693</td><td>0.16094</td><td>0.04862</td><td>0.04625</td><td>0.00237</td><td>5:35:01.37175</td><td>-5:24:13.36750</td><td>229.954</td><td>77.2</td><td>0.696</td><td>98.3</td><td>93.2</td><td>1.211</td><td>0.373</td><td>2.185</td><td>1.615</td><td>W</td></tr>\n",
       "<tr><td>79</td><td>w030-524</td><td>0.338</td><td>5.75068</td><td>5.60839</td><td>0.06457</td><td>0.14229</td><td>0.07304</td><td>0.07173</td><td>0.00131</td><td>5:35:03.00375</td><td>-5:25:24.35750</td><td>234.087</td><td>58.6</td><td>0.315</td><td>93.8</td><td>82.0</td><td>0.626</td><td>0.288</td><td>2.559</td><td>1.541</td><td>W</td></tr>\n",
       "<tr><td>80</td><td>w044-527</td><td>1.35</td><td>7.01087</td><td>6.78089</td><td>0.34995</td><td>0.22998</td><td>0.08877</td><td>0.08624</td><td>0.00253</td><td>5:35:04.427</td><td>-5:25:27.39</td><td>217.945</td><td>55.0</td><td>0.851</td><td>121.2</td><td>267.4</td><td>2.13</td><td>0.78</td><td>3.25</td><td>1.527</td><td>W</td></tr>\n",
       "<tr><td>81</td><td>w069-601</td><td>0.448</td><td>7.80525</td><td>7.32658</td><td>0.15199</td><td>0.47867</td><td>0.09599</td><td>0.09137</td><td>0.00462</td><td>5:35:06.90775</td><td>-5:26:00.57750</td><td>212.194</td><td>41.9</td><td>0.423</td><td>86.1</td><td>87.1</td><td>0.853</td><td>0.405</td><td>2.723</td><td>1.773</td><td>W</td></tr>\n",
       "<tr><td>82</td><td>w073-227</td><td>0.815</td><td>12.78356</td><td>11.58116</td><td>0.47323</td><td>1.20239</td><td>0.14904</td><td>0.13845</td><td>0.01059</td><td>5:35:07.26975</td><td>-5:22:26.49750</td><td>147.268</td><td>112.4</td><td>0.696</td><td>117.0</td><td>120.5</td><td>1.626</td><td>0.811</td><td>6.462</td><td>3.979</td><td>NW</td></tr>\n",
       "<tr><td>83</td><td>w266-558</td><td>0.753</td><td>10.64965</td><td>9.99132</td><td>0.15489</td><td>0.65833</td><td>0.12396</td><td>0.11689</td><td>0.00707</td><td>5:35:26.618</td><td>-5:25:58.29</td><td>218.155</td><td>315.6</td><td>0.775</td><td>330.7</td><td>298.5</td><td>1.88</td><td>1.127</td><td>7.761</td><td>1.506</td><td>S</td></tr>\n",
       "</table><style>table.dataTable {clear: both; width: auto !important; margin: 0 !important;}\n",
       ".dataTables_info, .dataTables_length, .dataTables_filter, .dataTables_paginate{\n",
       "display: inline-block; margin-right: 1em; }\n",
       ".paginate_button { margin-right: 5px; }\n",
       "</style>\n",
       "<script>\n",
       "\n",
       "var astropy_sort_num = function(a, b) {\n",
       "    var a_num = parseFloat(a);\n",
       "    var b_num = parseFloat(b);\n",
       "\n",
       "    if (isNaN(a_num) && isNaN(b_num))\n",
       "        return ((a < b) ? -1 : ((a > b) ? 1 : 0));\n",
       "    else if (!isNaN(a_num) && !isNaN(b_num))\n",
       "        return ((a_num < b_num) ? -1 : ((a_num > b_num) ? 1 : 0));\n",
       "    else\n",
       "        return isNaN(a_num) ? -1 : 1;\n",
       "}\n",
       "\n",
       "require.config({paths: {\n",
       "    datatables: 'https://cdn.datatables.net/1.10.12/js/jquery.dataTables.min'\n",
       "}});\n",
       "require([\"datatables\"], function(){\n",
       "    console.log(\"$('#table140192369024080-152771').dataTable()\");\n",
       "    \n",
       "jQuery.extend( jQuery.fn.dataTableExt.oSort, {\n",
       "    \"optionalnum-asc\": astropy_sort_num,\n",
       "    \"optionalnum-desc\": function (a,b) { return -astropy_sort_num(a, b); }\n",
       "});\n",
       "\n",
       "    $('#table140192369024080-152771').dataTable({\n",
       "        order: [],\n",
       "        pageLength: 50,\n",
       "        lengthMenu: [[10, 25, 50, 100, 500, 1000, -1], [10, 25, 50, 100, 500, 1000, 'All']],\n",
       "        pagingType: \"full_numbers\",\n",
       "        columnDefs: [{targets: [0, 2, 3, 4, 5, 6, 7, 8, 9, 12, 13, 14, 15, 16, 17, 18, 19, 20], type: \"optionalnum\"}]\n",
       "    });\n",
       "});\n",
       "</script>\n"
      ],
      "text/plain": [
       "<IPython.core.display.HTML object>"
      ]
     },
     "execution_count": 7,
     "metadata": {},
     "output_type": "execute_result"
    }
   ],
   "source": [
    "tab.show_in_notebook()"
   ]
  },
  {
   "cell_type": "code",
   "execution_count": null,
   "metadata": {},
   "outputs": [],
   "source": []
  }
 ],
 "metadata": {
  "jupytext": {
   "formats": "ipynb,py:light"
  },
  "kernelspec": {
   "display_name": "Python 3",
   "language": "python",
   "name": "python3"
  },
  "language_info": {
   "codemirror_mode": {
    "name": "ipython",
    "version": 3
   },
   "file_extension": ".py",
   "mimetype": "text/x-python",
   "name": "python",
   "nbconvert_exporter": "python",
   "pygments_lexer": "ipython3",
   "version": "3.7.3"
  }
 },
 "nbformat": 4,
 "nbformat_minor": 4
}
